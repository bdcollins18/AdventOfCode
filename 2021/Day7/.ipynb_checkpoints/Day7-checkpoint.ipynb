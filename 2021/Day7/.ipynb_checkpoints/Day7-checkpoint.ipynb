{
 "cells": [
  {
   "cell_type": "markdown",
   "id": "bd3cf959",
   "metadata": {},
   "source": [
    "<article class=\"day-desc\"><h2>--- Day 7: The Treachery of Whales ---</h2><p>A giant <a href=\"https://en.wikipedia.org/wiki/Sperm_whale\" target=\"_blank\">whale</a> has decided your submarine is its next meal, and it's much faster than you are. There's nowhere to run!</p>\n",
    "<p>Suddenly, a swarm of crabs (each in its own tiny submarine - it's too deep for them otherwise) zooms in to rescue you! They seem to be preparing to blast a hole in the ocean floor; sensors indicate a <em>massive underground cave system</em> just beyond where they're aiming!</p>\n",
    "<p>The crab submarines all need to be aligned before they'll have enough power to blast a large enough hole for your submarine to get through. However, it doesn't look like they'll be aligned before the whale catches you! Maybe you can help?</p>\n",
    "<p>There's one major catch - crab submarines can only move horizontally.</p>\n",
    "<p>You quickly make a list of <em>the horizontal position of each crab</em> (your puzzle input). Crab submarines have limited fuel, so you need to find a way to make all of their horizontal positions match while requiring them to spend as little fuel as possible.</p>\n",
    "<p>For example, consider the following horizontal positions:</p>\n",
    "<pre><code>16,1,2,0,4,2,7,1,2,14</code></pre>\n",
    "<p>This means there's a crab with horizontal position <code>16</code>, a crab with horizontal position <code>1</code>, and so on.</p>\n",
    "<p>Each change of 1 step in horizontal position of a single crab costs 1 fuel. You could choose any horizontal position to align them all on, but the one that costs the least fuel is horizontal position <code>2</code>:</p>\n",
    "<ul>\n",
    "<li>Move from <code>16</code> to <code>2</code>: <code>14</code> fuel</li>\n",
    "<li>Move from <code>1</code> to <code>2</code>: <code>1</code> fuel</li>\n",
    "<li>Move from <code>2</code> to <code>2</code>: <code>0</code> fuel</li>\n",
    "<li>Move from <code>0</code> to <code>2</code>: <code>2</code> fuel</li>\n",
    "<li>Move from <code>4</code> to <code>2</code>: <code>2</code> fuel</li>\n",
    "<li>Move from <code>2</code> to <code>2</code>: <code>0</code> fuel</li>\n",
    "<li>Move from <code>7</code> to <code>2</code>: <code>5</code> fuel</li>\n",
    "<li>Move from <code>1</code> to <code>2</code>: <code>1</code> fuel</li>\n",
    "<li>Move from <code>2</code> to <code>2</code>: <code>0</code> fuel</li>\n",
    "<li>Move from <code>14</code> to <code>2</code>: <code>12</code> fuel</li>\n",
    "</ul>\n",
    "<p>This costs a total of <code><em>37</em></code> fuel. This is the cheapest possible outcome; more expensive outcomes include aligning at position <code>1</code> (<code>41</code> fuel), position <code>3</code> (<code>39</code> fuel), or position <code>10</code> (<code>71</code> fuel).</p>\n",
    "<p>Determine the horizontal position that the crabs can align to using the least fuel possible. <em>How much fuel must they spend to align to that position?</em></p>\n",
    "</article>"
   ]
  },
  {
   "cell_type": "code",
   "execution_count": 5,
   "id": "90d7d4a5",
   "metadata": {},
   "outputs": [],
   "source": [
    "function init()\n",
    "    return [parse(Int64, n) for n in split(readline(\"input.txt\"), \",\")]\n",
    "end;"
   ]
  },
  {
   "cell_type": "code",
   "execution_count": 6,
   "id": "d532f2d6",
   "metadata": {},
   "outputs": [],
   "source": [
    "using Statistics"
   ]
  },
  {
   "cell_type": "code",
   "execution_count": 7,
   "id": "e19aad0c",
   "metadata": {},
   "outputs": [
    {
     "data": {
      "text/plain": [
       "344535.0"
      ]
     },
     "execution_count": 7,
     "metadata": {},
     "output_type": "execute_result"
    }
   ],
   "source": [
    "positions = init()\n",
    "meeting_point = median(positions);\n",
    "fuel = sum(abs.(positions .- meeting_point))"
   ]
  },
  {
   "cell_type": "markdown",
   "id": "21ae5847",
   "metadata": {},
   "source": [
    "<article class=\"day-desc\"><h2 id=\"part2\">--- Part Two ---</h2><p>The crabs don't seem interested in your proposed solution. Perhaps you misunderstand crab engineering?</p>\n",
    "<p>As it turns out, crab submarine engines <span title=\"This appears to be due to the modial interaction of magneto-reluctance and capacitive duractance.\">don't burn fuel at a constant rate</span>. Instead, each change of 1 step in horizontal position costs 1 more unit of fuel than the last: the first step costs <code>1</code>, the second step costs <code>2</code>, the third step costs <code>3</code>, and so on.</p>\n",
    "<p>As each crab moves, moving further becomes more expensive. This changes the best horizontal position to align them all on; in the example above, this becomes <code>5</code>:</p>\n",
    "<ul>\n",
    "<li>Move from <code>16</code> to <code>5</code>: <code>66</code> fuel</li>\n",
    "<li>Move from <code>1</code> to <code>5</code>: <code>10</code> fuel</li>\n",
    "<li>Move from <code>2</code> to <code>5</code>: <code>6</code> fuel</li>\n",
    "<li>Move from <code>0</code> to <code>5</code>: <code>15</code> fuel</li>\n",
    "<li>Move from <code>4</code> to <code>5</code>: <code>1</code> fuel</li>\n",
    "<li>Move from <code>2</code> to <code>5</code>: <code>6</code> fuel</li>\n",
    "<li>Move from <code>7</code> to <code>5</code>: <code>3</code> fuel</li>\n",
    "<li>Move from <code>1</code> to <code>5</code>: <code>10</code> fuel</li>\n",
    "<li>Move from <code>2</code> to <code>5</code>: <code>6</code> fuel</li>\n",
    "<li>Move from <code>14</code> to <code>5</code>: <code>45</code> fuel</li>\n",
    "</ul>\n",
    "<p>This costs a total of <code><em>168</em></code> fuel. This is the new cheapest possible outcome; the old alignment position (<code>2</code>) now costs <code>206</code> fuel instead.</p>\n",
    "<p>Determine the horizontal position that the crabs can align to using the least fuel possible so they can make you an escape route! <em>How much fuel must they spend to align to that position?</em></p>\n",
    "</article>"
   ]
  },
  {
   "cell_type": "markdown",
   "id": "a6e7925f",
   "metadata": {},
   "source": [
    "This is the 1-d gometric median on the distance metric described above. The distance metric is related to the difference of two points by the associated triangular number https://oeis.org/A000217 such that d(x) = (x*(x+1))/2"
   ]
  },
  {
   "cell_type": "code",
   "execution_count": 11,
   "id": "06013d49",
   "metadata": {},
   "outputs": [],
   "source": [
    "function d(x)\n",
    "    return (x * (x + 1))//2;\n",
    "end;"
   ]
  },
  {
   "cell_type": "code",
   "execution_count": 12,
   "id": "d89ca6fb",
   "metadata": {},
   "outputs": [
    {
     "data": {
      "text/plain": [
       "95581659//1"
      ]
     },
     "execution_count": 12,
     "metadata": {},
     "output_type": "execute_result"
    }
   ],
   "source": [
    "positions = init();\n",
    "minimum([sum(d.(abs.(positions .- i))) for i in minimum(positions):maximum(positions)])"
   ]
  }
 ],
 "metadata": {
  "kernelspec": {
   "display_name": "Julia 1.6.3",
   "language": "julia",
   "name": "julia-1.6"
  },
  "language_info": {
   "file_extension": ".jl",
   "mimetype": "application/julia",
   "name": "julia",
   "version": "1.6.3"
  }
 },
 "nbformat": 4,
 "nbformat_minor": 5
}
