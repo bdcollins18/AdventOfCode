{
 "cells": [
  {
   "cell_type": "markdown",
   "id": "03593f45",
   "metadata": {},
   "source": [
    "<article class=\"day-desc\"><h2>--- Day 3: Binary Diagnostic ---</h2><p>The submarine has been making some <span title=\"Turns out oceans are heavy.\">odd creaking noises</span>, so you ask it to produce a diagnostic report just in case.</p>\n",
    "<p>The diagnostic report (your puzzle input) consists of a list of binary numbers which, when decoded properly, can tell you many useful things about the conditions of the submarine. The first parameter to check is the <em>power consumption</em>.</p>\n",
    "<p>You need to use the binary numbers in the diagnostic report to generate two new binary numbers (called the <em>gamma rate</em> and the <em>epsilon rate</em>). The power consumption can then be found by multiplying the gamma rate by the epsilon rate.</p>\n",
    "<p>Each bit in the gamma rate can be determined by finding the <em>most common bit in the corresponding position</em> of all numbers in the diagnostic report. For example, given the following diagnostic report:</p>\n",
    "<pre><code>00100\n",
    "11110\n",
    "10110\n",
    "10111\n",
    "10101\n",
    "01111\n",
    "00111\n",
    "11100\n",
    "10000\n",
    "11001\n",
    "00010\n",
    "01010\n",
    "</code></pre>\n",
    "<p>Considering only the first bit of each number, there are five <code>0</code> bits and seven <code>1</code> bits. Since the most common bit is <code>1</code>, the first bit of the gamma rate is <code>1</code>.</p>\n",
    "<p>The most common second bit of the numbers in the diagnostic report is <code>0</code>, so the second bit of the gamma rate is <code>0</code>.</p>\n",
    "<p>The most common value of the third, fourth, and fifth bits are <code>1</code>, <code>1</code>, and <code>0</code>, respectively, and so the final three bits of the gamma rate are <code>110</code>.</p>\n",
    "<p>So, the gamma rate is the binary number <code>10110</code>, or <code><em>22</em></code> in decimal.</p>\n",
    "<p>The epsilon rate is calculated in a similar way; rather than use the most common bit, the least common bit from each position is used. So, the epsilon rate is <code>01001</code>, or <code><em>9</em></code> in decimal. Multiplying the gamma rate (<code>22</code>) by the epsilon rate (<code>9</code>) produces the power consumption, <code><em>198</em></code>.</p>\n",
    "<p>Use the binary numbers in your diagnostic report to calculate the gamma rate and epsilon rate, then multiply them together. <em>What is the power consumption of the submarine?</em> (Be sure to represent your answer in decimal, not binary.)</p>\n",
    "</article>"
   ]
  },
  {
   "cell_type": "code",
   "execution_count": 156,
   "id": "fa4c58cd",
   "metadata": {},
   "outputs": [],
   "source": [
    "input_lines = readlines(\"input.txt\");"
   ]
  },
  {
   "cell_type": "code",
   "execution_count": 157,
   "id": "c9b894f0",
   "metadata": {},
   "outputs": [],
   "source": [
    "reading_size = length(input_lines[1]);"
   ]
  },
  {
   "cell_type": "code",
   "execution_count": 158,
   "id": "10c9d56d",
   "metadata": {},
   "outputs": [],
   "source": [
    "readings = [parse(Int64, reading_str, base=2) for reading_str in input_lines];"
   ]
  },
  {
   "cell_type": "code",
   "execution_count": 159,
   "id": "8a7ae081",
   "metadata": {},
   "outputs": [],
   "source": [
    "masks = [1 << i for i in 0:(reading_size - 1)];"
   ]
  },
  {
   "cell_type": "code",
   "execution_count": 160,
   "id": "5bcab99f",
   "metadata": {},
   "outputs": [],
   "source": [
    "counts = [0 for _ in 1:reading_size];\n",
    "for reading in readings\n",
    "     counts += ((((reading .& masks) .> 0) .<< 1) .- 1)\n",
    "end;"
   ]
  },
  {
   "cell_type": "code",
   "execution_count": 161,
   "id": "cc060445",
   "metadata": {},
   "outputs": [],
   "source": [
    "gamma_bits = counts .>= 0;"
   ]
  },
  {
   "cell_type": "code",
   "execution_count": 162,
   "id": "e1ca074e",
   "metadata": {},
   "outputs": [],
   "source": [
    "epsilon_bits = .~gamma_bits;"
   ]
  },
  {
   "cell_type": "code",
   "execution_count": 163,
   "id": "3f5dc25d",
   "metadata": {},
   "outputs": [],
   "source": [
    "gamma = sum(gamma_bits .* masks);"
   ]
  },
  {
   "cell_type": "code",
   "execution_count": 164,
   "id": "5d32eb04",
   "metadata": {},
   "outputs": [],
   "source": [
    "epsilon = sum(epsilon_bits .* masks);"
   ]
  },
  {
   "cell_type": "code",
   "execution_count": 165,
   "id": "02c43250",
   "metadata": {},
   "outputs": [
    {
     "name": "stdout",
     "output_type": "stream",
     "text": [
      "693486"
     ]
    }
   ],
   "source": [
    "print(gamma * epsilon)"
   ]
  },
  {
   "cell_type": "markdown",
   "id": "c56299b7",
   "metadata": {},
   "source": [
    "<article class=\"day-desc\"><h2 id=\"part2\">--- Part Two ---</h2><p>Next, you should verify the <em>life support rating</em>, which can be determined by multiplying the <em>oxygen generator rating</em> by the <em>CO2 scrubber rating</em>.</p>\n",
    "<p>Both the oxygen generator rating and the CO2 scrubber rating are values that can be found in your diagnostic report - finding them is the tricky part. Both values are located using a similar process that involves filtering out values until only one remains. Before searching for either rating value, start with the full list of binary numbers from your diagnostic report and <em>consider just the first bit</em> of those numbers. Then:</p>\n",
    "<ul>\n",
    "<li>Keep only numbers selected by the <em>bit criteria</em> for the type of rating value for which you are searching. Discard numbers which do not match the bit criteria.</li>\n",
    "<li>If you only have one number left, stop; this is the rating value for which you are searching.</li>\n",
    "<li>Otherwise, repeat the process, considering the next bit to the right.</li>\n",
    "</ul>\n",
    "<p>The <em>bit criteria</em> depends on which type of rating value you want to find:</p>\n",
    "<ul>\n",
    "<li>To find <em>oxygen generator rating</em>, determine the <em>most common</em> value (<code>0</code> or <code>1</code>) in the current bit position, and keep only numbers with that bit in that position. If <code>0</code> and <code>1</code> are equally common, keep values with a <code><em>1</em></code> in the position being considered.</li>\n",
    "<li>To find <em>CO2 scrubber rating</em>, determine the <em>least common</em> value (<code>0</code> or <code>1</code>) in the current bit position, and keep only numbers with that bit in that position. If <code>0</code> and <code>1</code> are equally common, keep values with a <code><em>0</em></code> in the position being considered.</li>\n",
    "</ul>\n",
    "<p>For example, to determine the <em>oxygen generator rating</em> value using the same example diagnostic report from above:</p>\n",
    "<ul>\n",
    "<li>Start with all 12 numbers and consider only the first bit of each number. There are more <code>1</code> bits (7) than <code>0</code> bits (5), so keep only the 7 numbers with a <code>1</code> in the first position: <code>11110</code>, <code>10110</code>, <code>10111</code>, <code>10101</code>, <code>11100</code>, <code>10000</code>, and <code>11001</code>.</li>\n",
    "<li>Then, consider the second bit of the 7 remaining numbers: there are more <code>0</code> bits (4) than <code>1</code> bits (3), so keep only the 4 numbers with a <code>0</code> in the second position: <code>10110</code>, <code>10111</code>, <code>10101</code>, and <code>10000</code>.</li>\n",
    "<li>In the third position, three of the four numbers have a <code>1</code>, so keep those three: <code>10110</code>, <code>10111</code>, and <code>10101</code>.</li>\n",
    "<li>In the fourth position, two of the three numbers have a <code>1</code>, so keep those two: <code>10110</code> and <code>10111</code>.</li>\n",
    "<li>In the fifth position, there are an equal number of <code>0</code> bits and <code>1</code> bits (one each). So, to find the <em>oxygen generator rating</em>, keep the number with a <code>1</code> in that position: <code>10111</code>.</li>\n",
    "<li>As there is only one number left, stop; the <em>oxygen generator rating</em> is <code>10111</code>, or <code><em>23</em></code> in decimal.</li>\n",
    "</ul>\n",
    "<p>Then, to determine the <em>CO2 scrubber rating</em> value from the same example above:</p>\n",
    "<ul>\n",
    "<li>Start again with all 12 numbers and consider only the first bit of each number. There are fewer <code>0</code> bits (5) than <code>1</code> bits (7), so keep only the 5 numbers with a <code>0</code> in the first position: <code>00100</code>, <code>01111</code>, <code>00111</code>, <code>00010</code>, and <code>01010</code>.</li>\n",
    "<li>Then, consider the second bit of the 5 remaining numbers: there are fewer <code>1</code> bits (2) than <code>0</code> bits (3), so keep only the 2 numbers with a <code>1</code> in the second position: <code>01111</code> and <code>01010</code>.</li>\n",
    "<li>In the third position, there are an equal number of <code>0</code> bits and <code>1</code> bits (one each). So, to find the <em>CO2 scrubber rating</em>, keep the number with a <code>0</code> in that position: <code>01010</code>.</li>\n",
    "<li>As there is only one number left, stop; the <em>CO2 scrubber rating</em> is <code>01010</code>, or <code><em>10</em></code> in decimal.</li>\n",
    "</ul>\n",
    "<p>Finally, to find the life support rating, multiply the oxygen generator rating (<code>23</code>) by the CO2 scrubber rating (<code>10</code>) to get <code><em>230</em></code>.</p>\n",
    "<p>Use the binary numbers in your diagnostic report to calculate the oxygen generator rating and CO2 scrubber rating, then multiply them together. <em>What is the life support rating of the submarine?</em> (Be sure to represent your answer in decimal, not binary.)</p>\n",
    "</article>"
   ]
  },
  {
   "cell_type": "code",
   "execution_count": 166,
   "id": "7f1aa78b",
   "metadata": {},
   "outputs": [],
   "source": [
    "oxygen_readings = copy(readings);\n",
    "for bit_pos in (reading_size - 1):-1:0\n",
    "    bit_mask = 1 << bit_pos;\n",
    "    mapped_bits = (((bit_mask .& oxygen_readings) .> 0) .<< 1) .- 1;\n",
    "    mapped_bit_sum = sum(mapped_bits);\n",
    "    common_mapped_bit = (mapped_bit_sum > 0) - (mapped_bit_sum < 0);\n",
    "    if common_mapped_bit != 0\n",
    "        oxygen_readings = oxygen_readings[mapped_bits .== common_mapped_bit];\n",
    "    else\n",
    "        oxygen_readings = oxygen_readings[mapped_bits .== 1];\n",
    "    end\n",
    "    if length(oxygen_readings) == 1\n",
    "        break;\n",
    "    end;\n",
    "end;"
   ]
  },
  {
   "cell_type": "code",
   "execution_count": 167,
   "id": "ea243756",
   "metadata": {},
   "outputs": [
    {
     "name": "stdout",
     "output_type": "stream",
     "text": [
      "[933]\n"
     ]
    }
   ],
   "source": [
    "println(oxygen_readings)"
   ]
  },
  {
   "cell_type": "code",
   "execution_count": 168,
   "id": "b43c967e",
   "metadata": {},
   "outputs": [],
   "source": [
    "c02_readings = copy(readings);\n",
    "for bit_pos in (reading_size - 1):-1:0\n",
    "    bit_mask = 1 << bit_pos;\n",
    "    mapped_bits = (((bit_mask .& c02_readings) .> 0) .<< 1) .- 1;\n",
    "    mapped_bit_sum = sum(mapped_bits);\n",
    "    common_mapped_bit = (mapped_bit_sum > 0) - (mapped_bit_sum < 0);\n",
    "    least_common_mapped_bit = common_mapped_bit * -1;\n",
    "    if least_common_mapped_bit != 0\n",
    "        c02_readings = c02_readings[mapped_bits .== least_common_mapped_bit];\n",
    "    else\n",
    "        c02_readings =  c02_readings[mapped_bits .== -1];\n",
    "    end\n",
    "    if length(c02_readings) == 1\n",
    "        break;\n",
    "    end;\n",
    "end;"
   ]
  },
  {
   "cell_type": "code",
   "execution_count": 169,
   "id": "4b8f5171",
   "metadata": {},
   "outputs": [
    {
     "name": "stdout",
     "output_type": "stream",
     "text": [
      "[3622]\n"
     ]
    }
   ],
   "source": [
    "println(c02_readings)"
   ]
  },
  {
   "cell_type": "code",
   "execution_count": 170,
   "id": "8277d282",
   "metadata": {},
   "outputs": [
    {
     "name": "stdout",
     "output_type": "stream",
     "text": [
      "3379326\n"
     ]
    }
   ],
   "source": [
    "println(oxygen_readings[1] * c02_readings[1])"
   ]
  }
 ],
 "metadata": {
  "kernelspec": {
   "display_name": "Julia 1.6.3",
   "language": "julia",
   "name": "julia-1.6"
  },
  "language_info": {
   "file_extension": ".jl",
   "mimetype": "application/julia",
   "name": "julia",
   "version": "1.6.3"
  }
 },
 "nbformat": 4,
 "nbformat_minor": 5
}
