{
 "cells": [
  {
   "cell_type": "markdown",
   "id": "7f5ae585",
   "metadata": {},
   "source": [
    "<article class=\"day-desc\"><h2>--- Day 1: Sonar Sweep ---</h2><p>You're minding your own business on a ship at sea when the overboard alarm goes off! You rush to see if you can help. Apparently, one of the Elves tripped and accidentally sent the sleigh keys flying into the ocean!</p>\n",
    "<p>Before you know it, you're inside a submarine the Elves keep ready for situations like this. It's covered in Christmas lights (because of course it is), and it even has an experimental antenna that should be able to track the keys if you can boost its signal strength high enough; there's a little meter that indicates the antenna's signal strength by displaying 0-50 <em class=\"star\">stars</em>.</p>\n",
    "<p>Your instincts tell you that in order to save Christmas, you'll need to get all <em class=\"star\">fifty stars</em> by December 25th.</p>\n",
    "<p>Collect stars by solving puzzles.  Two puzzles will be made available on each day in the Advent calendar; the second puzzle is unlocked when you complete the first.  Each puzzle grants <em class=\"star\">one star</em>. Good luck!</p>\n",
    "<p>As the submarine drops below the surface of the ocean, it automatically performs a sonar sweep of the nearby sea floor. On a small screen, the sonar sweep report (your puzzle input) appears: each line is a measurement of the sea floor depth as the sweep looks further and further away from the submarine.</p>\n",
    "<p>For example, suppose you had the following report:</p>\n",
    "<pre><code>199\n",
    "200\n",
    "208\n",
    "210\n",
    "200\n",
    "207\n",
    "240\n",
    "269\n",
    "260\n",
    "263\n",
    "</code></pre>\n",
    "<p>This report indicates that, scanning outward from the submarine, the sonar sweep found depths of <code>199</code>, <code>200</code>, <code>208</code>, <code>210</code>, and so on.</p>\n",
    "<p>The first order of business is to figure out how quickly the depth increases, just so you know what you're dealing with - you never know if the keys will get <span title=\"Does this premise seem fishy to you?\">carried into deeper water</span> by an ocean current or a fish or something.</p>\n",
    "<p>To do this, count <em>the number of times a depth measurement increases</em> from the previous measurement. (There is no measurement before the first measurement.) In the example above, the changes are as follows:</p>\n",
    "<pre><code>199 (N/A - no previous measurement)\n",
    "200 (<em>increased</em>)\n",
    "208 (<em>increased</em>)\n",
    "210 (<em>increased</em>)\n",
    "200 (decreased)\n",
    "207 (<em>increased</em>)\n",
    "240 (<em>increased</em>)\n",
    "269 (<em>increased</em>)\n",
    "260 (decreased)\n",
    "263 (<em>increased</em>)\n",
    "</code></pre>\n",
    "<p>In this example, there are <em><code>7</code></em> measurements that are larger than the previous measurement.</p>\n",
    "<p><em>How many measurements are larger than the previous measurement?</em></p>\n",
    "</article>"
   ]
  },
  {
   "cell_type": "code",
   "execution_count": 27,
   "id": "5cda5023",
   "metadata": {},
   "outputs": [],
   "source": [
    "input = [parse(Int64, depth_str) for depth_str in readlines(\"input.txt\")];"
   ]
  },
  {
   "cell_type": "code",
   "execution_count": 28,
   "id": "ddca8bc0",
   "metadata": {},
   "outputs": [],
   "source": [
    "prev_depth = input[1];\n",
    "count = 0;\n",
    "for depth in input[2:end]\n",
    "    if depth > prev_depth\n",
    "        count += 1;\n",
    "    end\n",
    "    prev_depth = depth;\n",
    "end"
   ]
  },
  {
   "cell_type": "code",
   "execution_count": 29,
   "id": "eb1a9c71",
   "metadata": {},
   "outputs": [
    {
     "name": "stdout",
     "output_type": "stream",
     "text": [
      "1393"
     ]
    }
   ],
   "source": [
    "print(count)"
   ]
  },
  {
   "cell_type": "markdown",
   "id": "d9ce6f17",
   "metadata": {},
   "source": [
    "<article class=\"day-desc\"><h2 id=\"part2\">--- Part Two ---</h2><p>Considering every single measurement isn't as useful as you expected: there's just too much noise in the data.</p>\n",
    "<p>Instead, consider sums of a <em>three-measurement sliding window</em>.  Again considering the above example:</p>\n",
    "<pre><code>199  A      \n",
    "200  A B    \n",
    "208  A B C  \n",
    "210    B C D\n",
    "200  E   C D\n",
    "207  E F   D\n",
    "240  E F G  \n",
    "269    F G H\n",
    "260      G H\n",
    "263        H\n",
    "</code></pre>\n",
    "<p>Start by comparing the first and second three-measurement windows. The measurements in the first window are marked <code>A</code> (<code>199</code>, <code>200</code>, <code>208</code>); their sum is <code>199 + 200 + 208 = 607</code>. The second window is marked <code>B</code> (<code>200</code>, <code>208</code>, <code>210</code>); its sum is <code>618</code>. The sum of measurements in the second window is larger than the sum of the first, so this first comparison <em>increased</em>.</p>\n",
    "<p>Your goal now is to count <em>the number of times the sum of measurements in this sliding window increases</em> from the previous sum. So, compare <code>A</code> with <code>B</code>, then compare <code>B</code> with <code>C</code>, then <code>C</code> with <code>D</code>, and so on. Stop when there aren't enough measurements left to create a new three-measurement sum.</p>\n",
    "<p>In the above example, the sum of each three-measurement window is as follows:</p>\n",
    "<pre><code>A: 607 (N/A - no previous sum)\n",
    "B: 618 (<em>increased</em>)\n",
    "C: 618 (no change)\n",
    "D: 617 (decreased)\n",
    "E: 647 (<em>increased</em>)\n",
    "F: 716 (<em>increased</em>)\n",
    "G: 769 (<em>increased</em>)\n",
    "H: 792 (<em>increased</em>)\n",
    "</code></pre>\n",
    "<p>In this example, there are <em><code>5</code></em> sums that are larger than the previous sum.</p>\n",
    "<p>Consider sums of a three-measurement sliding window. <em>How many sums are larger than the previous sum?</em></p>\n",
    "</article>"
   ]
  },
  {
   "cell_type": "code",
   "execution_count": 39,
   "id": "af1cf415",
   "metadata": {},
   "outputs": [],
   "source": [
    "# The windows only differ by 1 element,\n",
    "# so we compare the different element in\n",
    "# each consecutive window\n",
    "window_start = 1;\n",
    "next_window_end = window_start + 3;\n",
    "count = 0;\n",
    "while next_window_end <= length(input)\n",
    "    if input[next_window_end] > input[window_start]\n",
    "        count += 1;\n",
    "    end\n",
    "    window_start += 1;\n",
    "    next_window_end += 1;\n",
    "end"
   ]
  },
  {
   "cell_type": "code",
   "execution_count": 40,
   "id": "521329fa",
   "metadata": {},
   "outputs": [
    {
     "name": "stdout",
     "output_type": "stream",
     "text": [
      "1359"
     ]
    }
   ],
   "source": [
    "print(count)"
   ]
  },
  {
   "cell_type": "code",
   "execution_count": null,
   "id": "086a4ee2",
   "metadata": {},
   "outputs": [],
   "source": []
  }
 ],
 "metadata": {
  "kernelspec": {
   "display_name": "Julia 1.6.3",
   "language": "julia",
   "name": "julia-1.6"
  },
  "language_info": {
   "file_extension": ".jl",
   "mimetype": "application/julia",
   "name": "julia",
   "version": "1.6.3"
  }
 },
 "nbformat": 4,
 "nbformat_minor": 5
}
