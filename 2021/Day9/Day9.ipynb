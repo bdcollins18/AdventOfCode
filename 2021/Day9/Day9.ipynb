{
 "cells": [
  {
   "cell_type": "markdown",
   "id": "bf9cc2da",
   "metadata": {},
   "source": [
    "<article class=\"day-desc\"><h2>--- Day 9: Smoke Basin ---</h2><p>These caves seem to be <a href=\"https://en.wikipedia.org/wiki/Lava_tube\" target=\"_blank\">lava tubes</a>. Parts are even still volcanically active; small hydrothermal vents release smoke into the caves that slowly <span title=\"This was originally going to be a puzzle about watersheds, but we're already under water.\">settles like rain</span>.</p>\n",
    "<p>If you can model how the smoke flows through the caves, you might be able to avoid it and be that much safer. The submarine generates a heightmap of the floor of the nearby caves for you (your puzzle input).</p>\n",
    "<p>Smoke flows to the lowest point of the area it's in. For example, consider the following heightmap:</p>\n",
    "<pre><code>2<em>1</em>9994321<em>0</em>\n",
    "3987894921\n",
    "98<em>5</em>6789892\n",
    "8767896789\n",
    "989996<em>5</em>678\n",
    "</code></pre>\n",
    "<p>Each number corresponds to the height of a particular location, where <code>9</code> is the highest and <code>0</code> is the lowest a location can be.</p>\n",
    "<p>Your first goal is to find the <em>low points</em> - the locations that are lower than any of its adjacent locations. Most locations have four adjacent locations (up, down, left, and right); locations on the edge or corner of the map have three or two adjacent locations, respectively. (Diagonal locations do not count as adjacent.)</p>\n",
    "<p>In the above example, there are <em>four</em> low points, all highlighted: two are in the first row (a <code>1</code> and a <code>0</code>), one is in the third row (a <code>5</code>), and one is in the bottom row (also a <code>5</code>). All other locations on the heightmap have some lower adjacent location, and so are not low points.</p>\n",
    "<p>The <em>risk level</em> of a low point is <em>1 plus its height</em>. In the above example, the risk levels of the low points are <code>2</code>, <code>1</code>, <code>6</code>, and <code>6</code>. The sum of the risk levels of all low points in the heightmap is therefore <code><em>15</em></code>.</p>\n",
    "<p>Find all of the low points on your heightmap. <em>What is the sum of the risk levels of all low points on your heightmap?</em></p>\n",
    "</article>"
   ]
  },
  {
   "cell_type": "code",
   "execution_count": 23,
   "id": "fd1ee007",
   "metadata": {},
   "outputs": [
    {
     "name": "stderr",
     "output_type": "stream",
     "text": [
      "\u001b[32m\u001b[1m   Resolving\u001b[22m\u001b[39m package versions...\n",
      "\u001b[32m\u001b[1m  No Changes\u001b[22m\u001b[39m to `~/.julia/environments/v1.6/Project.toml`\n",
      "\u001b[32m\u001b[1m  No Changes\u001b[22m\u001b[39m to `~/.julia/environments/v1.6/Manifest.toml`\n"
     ]
    }
   ],
   "source": [
    "import Pkg; Pkg.add(\"DataStructures\"); using DataStructures"
   ]
  },
  {
   "cell_type": "code",
   "execution_count": 17,
   "id": "3496b072",
   "metadata": {},
   "outputs": [],
   "source": [
    "function init()\n",
    "    lines = readlines(\"input.txt\");\n",
    "    line_ints = [[parse(Int64, d) for d in line] for line in lines];\n",
    "    return line_ints;\n",
    "end;"
   ]
  },
  {
   "cell_type": "code",
   "execution_count": 19,
   "id": "9003a02e",
   "metadata": {},
   "outputs": [
    {
     "data": {
      "text/plain": [
       "504"
      ]
     },
     "execution_count": 19,
     "metadata": {},
     "output_type": "execute_result"
    }
   ],
   "source": [
    "minima = []\n",
    "data = init()\n",
    "x_range = 1:length(data)\n",
    "y_range = 1:length(data[1])\n",
    "for x in x_range\n",
    "    for y in y_range\n",
    "        point = data[x][y]\n",
    "        if (x - 1 ∉ x_range || point < data[x - 1][y]) && (x + 1 ∉ x_range || point < data[x + 1][y]) && (y - 1 ∉ y_range || point < data[x][y - 1]) && (y + 1 ∉ y_range || point < data[x][y + 1])\n",
    "            push!(minima, point)\n",
    "        end;\n",
    "    end;\n",
    "end;\n",
    "\n",
    "sum(minima .+ 1)"
   ]
  },
  {
   "cell_type": "markdown",
   "id": "8993ec04",
   "metadata": {},
   "source": [
    "<article class=\"day-desc\"><h2 id=\"part2\">--- Part Two ---</h2><p>Next, you need to find the largest basins so you know what areas are most important to avoid.</p>\n",
    "<p>A <em>basin</em> is all locations that eventually flow downward to a single low point. Therefore, every low point has a basin, although some basins are very small. Locations of height <code>9</code> do not count as being in any basin, and all other locations will always be part of exactly one basin.</p>\n",
    "<p>The <em>size</em> of a basin is the number of locations within the basin, including the low point. The example above has four basins.</p>\n",
    "<p>The top-left basin, size <code>3</code>:</p>\n",
    "<pre><code><em>21</em>99943210\n",
    "<em>3</em>987894921\n",
    "9856789892\n",
    "8767896789\n",
    "9899965678\n",
    "</code></pre>\n",
    "<p>The top-right basin, size <code>9</code>:</p>\n",
    "<pre><code>21999<em>43210</em>\n",
    "398789<em>4</em>9<em>21</em>\n",
    "985678989<em>2</em>\n",
    "8767896789\n",
    "9899965678\n",
    "</code></pre>\n",
    "<p>The middle basin, size <code>14</code>:</p>\n",
    "<pre><code>2199943210\n",
    "39<em>878</em>94921\n",
    "9<em>85678</em>9892\n",
    "<em>87678</em>96789\n",
    "9<em>8</em>99965678\n",
    "</code></pre>\n",
    "<p>The bottom-right basin, size <code>9</code>:</p>\n",
    "<pre><code>2199943210\n",
    "3987894921\n",
    "9856789<em>8</em>92\n",
    "876789<em>678</em>9\n",
    "98999<em>65678</em>\n",
    "</code></pre>\n",
    "<p>Find the three largest basins and multiply their sizes together. In the above example, this is <code>9 * 14 * 9 = <em>1134</em></code>.</p>\n",
    "<p><em>What do you get if you multiply together the sizes of the three largest basins?</em></p>\n",
    "</article>"
   ]
  },
  {
   "cell_type": "code",
   "execution_count": 29,
   "id": "d205b7ef",
   "metadata": {},
   "outputs": [
    {
     "data": {
      "text/plain": [
       "215-element Vector{Any}:\n",
       " 18\n",
       " 89\n",
       " 33\n",
       " 87\n",
       " 43\n",
       " 71\n",
       " 14\n",
       " 30\n",
       "  7\n",
       " 42\n",
       " 15\n",
       " 47\n",
       " 84\n",
       "  ⋮\n",
       " 32\n",
       "  4\n",
       " 12\n",
       " 42\n",
       "  5\n",
       " 18\n",
       "  6\n",
       "  3\n",
       "  2\n",
       "  7\n",
       " 11\n",
       "  4"
      ]
     },
     "execution_count": 29,
     "metadata": {},
     "output_type": "execute_result"
    }
   ],
   "source": [
    "data = init()\n",
    "basins = []\n",
    "\n",
    "for x in x_range\n",
    "    for y in y_range\n",
    "        if data[x][y] != 9\n",
    "            basin_size = 0;\n",
    "            flood_fill_queue = Queue{Tuple{Int64, Int64}}();\n",
    "            enqueue!(flood_fill_queue, (x, y));\n",
    "            while length(flood_fill_queue) != 0\n",
    "                (x,y) = dequeue!(flood_fill_queue);\n",
    "                point = data[x][y]\n",
    "                if point != 9\n",
    "                    data[x][y] = 9;\n",
    "                    basin_size += 1;\n",
    "                    if x-1 in x_range\n",
    "                        enqueue!(flood_fill_queue, (x-1, y));\n",
    "                    end;\n",
    "                    if x+1 in x_range\n",
    "                        enqueue!(flood_fill_queue, (x+1, y));\n",
    "                    end;\n",
    "                    if y-1 in y_range\n",
    "                        enqueue!(flood_fill_queue, (x, y-1));\n",
    "                    end;\n",
    "                    if y+1 in y_range\n",
    "                        enqueue!(flood_fill_queue, (x, y+1));\n",
    "                    end;\n",
    "                end;\n",
    "            end;\n",
    "            push!(basins, basin_size)\n",
    "        end;\n",
    "    end;\n",
    "end;\n",
    "basins"
   ]
  },
  {
   "cell_type": "code",
   "execution_count": null,
   "id": "131204e6",
   "metadata": {},
   "outputs": [],
   "source": []
  }
 ],
 "metadata": {
  "kernelspec": {
   "display_name": "Julia 1.6.3",
   "language": "julia",
   "name": "julia-1.6"
  },
  "language_info": {
   "file_extension": ".jl",
   "mimetype": "application/julia",
   "name": "julia",
   "version": "1.6.3"
  }
 },
 "nbformat": 4,
 "nbformat_minor": 5
}
