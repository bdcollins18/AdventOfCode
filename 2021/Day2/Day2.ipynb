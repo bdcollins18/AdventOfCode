{
 "cells": [
  {
   "cell_type": "markdown",
   "id": "8c33963d",
   "metadata": {},
   "source": [
    "<article class=\"day-desc\"><h2>--- Day 2: Dive! ---</h2><p>Now, you need to figure out how to <span title=\"Tank, I need a pilot program for a B212 helicopter.\">pilot this thing</span>.</p>\n",
    "<p>It seems like the submarine can take a series of commands like <code>forward 1</code>, <code>down 2</code>, or <code>up 3</code>:</p>\n",
    "<ul>\n",
    "<li><code>forward X</code> increases the horizontal position by <code>X</code> units.</li>\n",
    "<li><code>down X</code> <em>increases</em> the depth by <code>X</code> units.</li>\n",
    "<li><code>up X</code> <em>decreases</em> the depth by <code>X</code> units.</li>\n",
    "</ul>\n",
    "<p>Note that since you're on a submarine, <code>down</code> and <code>up</code> affect your <em>depth</em>, and so they have the opposite result of what you might expect.</p>\n",
    "<p>The submarine seems to already have a planned course (your puzzle input). You should probably figure out where it's going. For example:</p>\n",
    "<pre><code>forward 5\n",
    "down 5\n",
    "forward 8\n",
    "up 3\n",
    "down 8\n",
    "forward 2\n",
    "</code></pre>\n",
    "<p>Your horizontal position and depth both start at <code>0</code>. The steps above would then modify them as follows:</p>\n",
    "<ul>\n",
    "<li><code>forward 5</code> adds <code>5</code> to your horizontal position, a total of <code>5</code>.</li>\n",
    "<li><code>down 5</code> adds <code>5</code> to your depth, resulting in a value of <code>5</code>.</li>\n",
    "<li><code>forward 8</code> adds <code>8</code> to your horizontal position, a total of <code>13</code>.</li>\n",
    "<li><code>up 3</code> decreases your depth by <code>3</code>, resulting in a value of <code>2</code>.</li>\n",
    "<li><code>down 8</code> adds <code>8</code> to your depth, resulting in a value of <code>10</code>.</li>\n",
    "<li><code>forward 2</code> adds <code>2</code> to your horizontal position, a total of <code>15</code>.</li>\n",
    "</ul>\n",
    "<p>After following these instructions, you would have a horizontal position of <code>15</code> and a depth of <code>10</code>. (Multiplying these together produces <code><em>150</em></code>.)</p>\n",
    "<p>Calculate the horizontal position and depth you would have after following the planned course. <em>What do you get if you multiply your final horizontal position by your final depth?</em></p>\n",
    "</article>"
   ]
  },
  {
   "cell_type": "code",
   "execution_count": 8,
   "id": "18340ee0",
   "metadata": {},
   "outputs": [],
   "source": [
    "function to_command_tuple(sub_command)\n",
    "    fields = split(sub_command, \" \");\n",
    "    return (fields[1], parse(Int64, fields[2]));\n",
    "end;"
   ]
  },
  {
   "cell_type": "code",
   "execution_count": 10,
   "id": "32ef9d05",
   "metadata": {},
   "outputs": [],
   "source": [
    "input = [to_command_tuple(sub_command) for sub_command in readlines(\"input.txt\")];"
   ]
  },
  {
   "cell_type": "code",
   "execution_count": 25,
   "id": "e4dfa67a",
   "metadata": {},
   "outputs": [
    {
     "name": "stdout",
     "output_type": "stream",
     "text": [
      "2162\n",
      "1051\n",
      "2272262\n"
     ]
    }
   ],
   "source": [
    "horizontal = 0;\n",
    "depth = 0;\n",
    "for command in input\n",
    "    if command[1] == \"up\"\n",
    "        depth -= command[2];\n",
    "    elseif command[1] == \"down\"\n",
    "        depth += command[2];\n",
    "    elseif command[1] == \"forward\"\n",
    "        horizontal += command[2];\n",
    "    end\n",
    "end;\n",
    "println(horizontal);\n",
    "println(depth);\n",
    "println(horizontal * depth);"
   ]
  },
  {
   "cell_type": "markdown",
   "id": "90fda024",
   "metadata": {},
   "source": [
    "<article class=\"day-desc\"><h2 id=\"part2\">--- Part Two ---</h2><p>Based on your calculations, the planned course doesn't seem to make any sense. You find the submarine manual and discover that the process is actually slightly more complicated.</p>\n",
    "<p>In addition to horizontal position and depth, you'll also need to track a third value, <em>aim</em>, which also starts at <code>0</code>. The commands also mean something entirely different than you first thought:</p>\n",
    "<ul>\n",
    "<li><code>down X</code> <em>increases</em> your aim by <code>X</code> units.</li>\n",
    "<li><code>up X</code> <em>decreases</em> your aim by <code>X</code> units.</li>\n",
    "<li><code>forward X</code> does two things:<ul>\n",
    "  <li>It increases your horizontal position by <code>X</code> units.</li>\n",
    "  <li>It increases your depth by your aim <em>multiplied by</em> <code>X</code>.</li>\n",
    "</ul></li>\n",
    "</ul>\n",
    "<p>Again note that since you're on a submarine, <code>down</code> and <code>up</code> do the opposite of what you might expect: \"down\" means aiming in the positive direction.</p>\n",
    "<p>Now, the above example does something different:</p>\n",
    "<ul>\n",
    "<li><code>forward 5</code> adds <code>5</code> to your horizontal position, a total of <code>5</code>. Because your aim is <code>0</code>, your depth does not change.</li>\n",
    "<li><code>down 5</code> adds <code>5</code> to your aim, resulting in a value of <code>5</code>.</li>\n",
    "<li><code>forward 8</code> adds <code>8</code> to your horizontal position, a total of <code>13</code>. Because your aim is <code>5</code>, your depth increases by <code>8*5=40</code>.</li>\n",
    "<li><code>up 3</code> decreases your aim by <code>3</code>, resulting in a value of <code>2</code>.</li>\n",
    "<li><code>down 8</code> adds <code>8</code> to your aim, resulting in a value of <code>10</code>.</li>\n",
    "<li><code>forward 2</code> adds <code>2</code> to your horizontal position, a total of <code>15</code>.  Because your aim is <code>10</code>, your depth increases by <code>2*10=20</code> to a total of <code>60</code>.</li>\n",
    "</ul>\n",
    "<p>After following these new instructions, you would have a horizontal position of <code>15</code> and a depth of <code>60</code>. (Multiplying these produces <code><em>900</em></code>.)</p>\n",
    "<p>Using this new interpretation of the commands, calculate the horizontal position and depth you would have after following the planned course. <em>What do you get if you multiply your final horizontal position by your final depth?</em></p>\n",
    "</article>"
   ]
  },
  {
   "cell_type": "code",
   "execution_count": 26,
   "id": "dcc75fc8",
   "metadata": {},
   "outputs": [
    {
     "name": "stdout",
     "output_type": "stream",
     "text": [
      "2162\n",
      "987457\n",
      "2134882034\n"
     ]
    }
   ],
   "source": [
    "horizontal = 0;\n",
    "depth = 0;\n",
    "aim = 0\n",
    "for command in input\n",
    "    if command[1] == \"up\"\n",
    "        aim -= command[2];\n",
    "    elseif command[1] == \"down\"\n",
    "        aim += command[2];\n",
    "    elseif command[1] == \"forward\"\n",
    "        horizontal += command[2];\n",
    "        depth += aim * command[2]\n",
    "    end\n",
    "end;\n",
    "println(horizontal);\n",
    "println(depth);\n",
    "println(horizontal * depth);"
   ]
  },
  {
   "cell_type": "code",
   "execution_count": null,
   "id": "f56033ea",
   "metadata": {},
   "outputs": [],
   "source": []
  }
 ],
 "metadata": {
  "kernelspec": {
   "display_name": "Julia 1.6.3",
   "language": "julia",
   "name": "julia-1.6"
  },
  "language_info": {
   "file_extension": ".jl",
   "mimetype": "application/julia",
   "name": "julia",
   "version": "1.6.3"
  }
 },
 "nbformat": 4,
 "nbformat_minor": 5
}
