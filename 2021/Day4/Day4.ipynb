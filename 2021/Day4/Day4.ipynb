{
 "cells": [
  {
   "cell_type": "markdown",
   "id": "9a6baacd",
   "metadata": {},
   "source": [
    "<article class=\"day-desc\"><h2>--- Day 4: Giant Squid ---</h2><p>You're already almost 1.5km (almost a mile) below the surface of the ocean, already so deep that you can't see any sunlight. What you <em>can</em> see, however, is a giant squid that has attached itself to the outside of your submarine.</p>\n",
    "<p>Maybe it wants to play <a href=\"https://en.wikipedia.org/wiki/Bingo_(American_version)\" target=\"_blank\">bingo</a>?</p>\n",
    "<p>Bingo is played on a set of boards each consisting of a 5x5 grid of numbers. Numbers are chosen at random, and the chosen number is <em>marked</em> on all boards on which it appears. (Numbers may not appear on all boards.) If all numbers in any row or any column of a board are marked, that board <em>wins</em>. (Diagonals don't count.)</p>\n",
    "<p>The submarine has a <em>bingo subsystem</em> to help passengers (currently, you and the giant squid) pass the time. It automatically generates a random order in which to draw numbers and a random set of boards (your puzzle input). For example:</p>\n",
    "<pre><code>7,4,9,5,11,17,23,2,0,14,21,24,10,16,13,6,15,25,12,22,18,20,8,19,3,26,1\n",
    "\n",
    "22 13 17 11  0\n",
    " 8  2 23  4 24\n",
    "21  9 14 16  7\n",
    " 6 10  3 18  5\n",
    " 1 12 20 15 19\n",
    "\n",
    " 3 15  0  2 22\n",
    " 9 18 13 17  5\n",
    "19  8  7 25 23\n",
    "20 11 10 24  4\n",
    "14 21 16 12  6\n",
    "\n",
    "14 21 17 24  4\n",
    "10 16 15  9 19\n",
    "18  8 23 26 20\n",
    "22 11 13  6  5\n",
    " 2  0 12  3  7\n",
    "</code></pre>\n",
    "<p>After the first five numbers are drawn (<code>7</code>, <code>4</code>, <code>9</code>, <code>5</code>, and <code>11</code>), there are no winners, but the boards are marked as follows (shown here adjacent to each other to save space):</p>\n",
    "<pre><code>22 13 17 <em>11</em>  0         3 15  0  2 22        14 21 17 24  <em>4</em>\n",
    " 8  2 23  <em>4</em> 24         <em>9</em> 18 13 17  <em>5</em>        10 16 15  <em>9</em> 19\n",
    "21  <em>9</em> 14 16  <em>7</em>        19  8  <em>7</em> 25 23        18  8 23 26 20\n",
    " 6 10  3 18  <em>5</em>        20 <em>11</em> 10 24  <em>4</em>        22 <em>11</em> 13  6  <em>5</em>\n",
    " 1 12 20 15 19        14 21 16 12  6         2  0 12  3  <em>7</em>\n",
    "</code></pre>\n",
    "<p>After the next six numbers are drawn (<code>17</code>, <code>23</code>, <code>2</code>, <code>0</code>, <code>14</code>, and <code>21</code>), there are still no winners:</p>\n",
    "<pre><code>22 13 <em>17</em> <em>11</em>  <em>0</em>         3 15  <em>0</em>  <em>2</em> 22        <em>14</em> <em>21</em> <em>17</em> 24  <em>4</em>\n",
    " 8  <em>2</em> <em>23</em>  <em>4</em> 24         <em>9</em> 18 13 <em>17</em>  <em>5</em>        10 16 15  <em>9</em> 19\n",
    "<em>21</em>  <em>9</em> <em>14</em> 16  <em>7</em>        19  8  <em>7</em> 25 <em>23</em>        18  8 <em>23</em> 26 20\n",
    " 6 10  3 18  <em>5</em>        20 <em>11</em> 10 24  <em>4</em>        22 <em>11</em> 13  6  <em>5</em>\n",
    " 1 12 20 15 19        <em>14</em> <em>21</em> 16 12  6         <em>2</em>  <em>0</em> 12  3  <em>7</em>\n",
    "</code></pre>\n",
    "<p>Finally, <code>24</code> is drawn:</p>\n",
    "<pre><code>22 13 <em>17</em> <em>11</em>  <em>0</em>         3 15  <em>0</em>  <em>2</em> 22        <em>14</em> <em>21</em> <em>17</em> <em>24</em>  <em>4</em>\n",
    " 8  <em>2</em> <em>23</em>  <em>4</em> <em>24</em>         <em>9</em> 18 13 <em>17</em>  <em>5</em>        10 16 15  <em>9</em> 19\n",
    "<em>21</em>  <em>9</em> <em>14</em> 16  <em>7</em>        19  8  <em>7</em> 25 <em>23</em>        18  8 <em>23</em> 26 20\n",
    " 6 10  3 18  <em>5</em>        20 <em>11</em> 10 <em>24</em>  <em>4</em>        22 <em>11</em> 13  6  <em>5</em>\n",
    " 1 12 20 15 19        <em>14</em> <em>21</em> 16 12  6         <em>2</em>  <em>0</em> 12  3  <em>7</em>\n",
    "</code></pre>\n",
    "<p>At this point, the third board <em>wins</em> because it has at least one complete row or column of marked numbers (in this case, the entire top row is marked: <code><em>14 21 17 24  4</em></code>).</p>\n",
    "<p>The <em>score</em> of the winning board can now be calculated. Start by finding the <em>sum of all unmarked numbers</em> on that board; in this case, the sum is <code>188</code>. Then, multiply that sum by <em>the number that was just called</em> when the board won, <code>24</code>, to get the final score, <code>188 * 24 = <em>4512</em></code>.</p>\n",
    "<p>To guarantee victory against the giant squid, figure out which board will win first. <em>What will your final score be if you choose that board?</em></p>\n",
    "</article>"
   ]
  },
  {
   "cell_type": "code",
   "execution_count": 60,
   "id": "e5ce8df8",
   "metadata": {},
   "outputs": [],
   "source": [
    "function init()\n",
    "   input_file = open(\"input.txt\", \"r\");\n",
    "    called_numbers = [parse(Int64, num_str) for num_str in split(readline(input_file), \",\")];\n",
    "    rest_of_input = read(input_file, String);\n",
    "    board_strings = split(rest_of_input, \"\\n\\n\");\n",
    "    number_boards = [fill(0, (5,5)) for _ in board_strings];\n",
    "    for (i,board_string) in enumerate(board_strings)\n",
    "        number_board = number_boards[i]\n",
    "        for (row, row_string) in enumerate(split(board_string, \"\\n\", keepempty=false))\n",
    "            for (col, num_string) in enumerate(split(row_string, \" \", keepempty=false))\n",
    "                number_board[row, col] = parse(Int64, num_string)\n",
    "            end;\n",
    "        end;\n",
    "    end;\n",
    "    mark_boards = [fill(true, (5,5)) for _ in number_boards];\n",
    "    bingo_boards = collect(zip(number_boards, mark_boards));\n",
    "    return (called_numbers, bingo_boards)\n",
    "end;"
   ]
  },
  {
   "cell_type": "code",
   "execution_count": 61,
   "id": "578ae38f",
   "metadata": {},
   "outputs": [],
   "source": [
    "function all_false(arr)\n",
    "    return ~reduce(|, arr)\n",
    "end;\n",
    "\n",
    "function is_winning_board(bingo_board)\n",
    "    for row in eachrow(bingo_board[2])\n",
    "        if all_false(row)\n",
    "            return true;\n",
    "        end;\n",
    "    end;\n",
    "    for col in eachcol(bingo_board[2])\n",
    "        if all_false(col)\n",
    "            return true;\n",
    "        end;\n",
    "    end;\n",
    "    return false;\n",
    "end;\n",
    "\n",
    "function board_score(bingo_board, called_number)\n",
    "    return sum(bingo_board[1][bingo_board[2]]) * called_number\n",
    "end;"
   ]
  },
  {
   "cell_type": "code",
   "execution_count": 62,
   "id": "dc5e6147",
   "metadata": {},
   "outputs": [
    {
     "name": "stdout",
     "output_type": "stream",
     "text": [
      "[4662]\n"
     ]
    }
   ],
   "source": [
    "called_numbers, bingo_boards = init();\n",
    "for called_number in called_numbers\n",
    "    for bingo_board in bingo_boards\n",
    "        bingo_board[2][bingo_board[1] .== called_number] .= false;\n",
    "    end;\n",
    "    winning_boards = filter(is_winning_board, bingo_boards)\n",
    "    if length(winning_boards) > 0\n",
    "        winning_board_scores = board_score.(winning_boards, called_number)\n",
    "        println(winning_board_scores)\n",
    "        break;\n",
    "    end;\n",
    "end;"
   ]
  },
  {
   "cell_type": "markdown",
   "id": "be376717",
   "metadata": {},
   "source": [
    "<article class=\"day-desc\"><h2 id=\"part2\">--- Part Two ---</h2><p>On the other hand, it might be wise to try a different strategy: <span title=\"That's 'cuz a submarine don't pull things' antennas out of their sockets when they lose. Giant squid are known to do that.\">let the giant squid win</span>.</p>\n",
    "<p>You aren't sure how many bingo boards a giant squid could play at once, so rather than waste time counting its arms, the safe thing to do is to <em>figure out which board will win last</em> and choose that one. That way, no matter which boards it picks, it will win for sure.</p>\n",
    "<p>In the above example, the second board is the last to win, which happens after <code>13</code> is eventually called and its middle column is completely marked. If you were to keep playing until this point, the second board would have a sum of unmarked numbers equal to <code>148</code> for a final score of <code>148 * 13 = <em>1924</em></code>.</p>\n",
    "<p>Figure out which board will win last. <em>Once it wins, what would its final score be?</em></p>\n",
    "</article>"
   ]
  },
  {
   "cell_type": "code",
   "execution_count": 69,
   "id": "fa1e7fe6",
   "metadata": {},
   "outputs": [
    {
     "name": "stdout",
     "output_type": "stream",
     "text": [
      "12080\n"
     ]
    }
   ],
   "source": [
    "called_numbers, bingo_boards = init();\n",
    "for called_number in called_numbers\n",
    "    for bingo_board in bingo_boards\n",
    "        bingo_board[2][bingo_board[1] .== called_number] .= false;\n",
    "    end;\n",
    "    if length(bingo_boards) > 1\n",
    "        bingo_boards = filter((b) -> ~is_winning_board(b), bingo_boards)\n",
    "    else\n",
    "        if(is_winning_board(bingo_boards[1]))\n",
    "            println(board_score(bingo_boards[1], called_number))\n",
    "            break;\n",
    "        end;\n",
    "    end;\n",
    "end;"
   ]
  }
 ],
 "metadata": {
  "kernelspec": {
   "display_name": "Julia 1.6.3",
   "language": "julia",
   "name": "julia-1.6"
  },
  "language_info": {
   "file_extension": ".jl",
   "mimetype": "application/julia",
   "name": "julia",
   "version": "1.6.3"
  }
 },
 "nbformat": 4,
 "nbformat_minor": 5
}
