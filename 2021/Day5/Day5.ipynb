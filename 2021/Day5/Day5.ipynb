{
 "cells": [
  {
   "cell_type": "markdown",
   "id": "4d67ebaf",
   "metadata": {},
   "source": [
    "<article class=\"day-desc\"><h2>--- Day 5: Hydrothermal Venture ---</h2><p>You come across a field of <a href=\"https://en.wikipedia.org/wiki/Hydrothermal_vent\" target=\"_blank\">hydrothermal vents</a> on the ocean floor! These vents constantly produce large, opaque clouds, so it would be best to avoid them if possible.</p>\n",
    "<p>They tend to form in <em>lines</em>; the submarine helpfully produces a list of nearby <span title=\"Maybe they're Bresenham vents.\">lines of vents</span> (your puzzle input) for you to review. For example:</p>\n",
    "<pre><code>0,9 -&gt; 5,9\n",
    "8,0 -&gt; 0,8\n",
    "9,4 -&gt; 3,4\n",
    "2,2 -&gt; 2,1\n",
    "7,0 -&gt; 7,4\n",
    "6,4 -&gt; 2,0\n",
    "0,9 -&gt; 2,9\n",
    "3,4 -&gt; 1,4\n",
    "0,0 -&gt; 8,8\n",
    "5,5 -&gt; 8,2\n",
    "</code></pre>\n",
    "<p>Each line of vents is given as a line segment in the format <code>x1,y1 -&gt; x2,y2</code> where <code>x1</code>,<code>y1</code> are the coordinates of one end the line segment and <code>x2</code>,<code>y2</code> are the coordinates of the other end. These line segments include the points at both ends. In other words:</p>\n",
    "<ul>\n",
    "<li>An entry like <code>1,1 -&gt; 1,3</code> covers points <code>1,1</code>, <code>1,2</code>, and <code>1,3</code>.</li>\n",
    "<li>An entry like <code>9,7 -&gt; 7,7</code> covers points <code>9,7</code>, <code>8,7</code>, and <code>7,7</code>.</li>\n",
    "</ul>\n",
    "<p>For now, <em>only consider horizontal and vertical lines</em>: lines where either <code>x1 = x2</code> or <code>y1 = y2</code>.</p>\n",
    "<p>So, the horizontal and vertical lines from the above list would produce the following diagram:</p>\n",
    "<pre><code>.......1..\n",
    "..1....1..\n",
    "..1....1..\n",
    ".......1..\n",
    ".112111211\n",
    "..........\n",
    "..........\n",
    "..........\n",
    "..........\n",
    "222111....\n",
    "</code></pre>\n",
    "<p>In this diagram, the top left corner is <code>0,0</code> and the bottom right corner is <code>9,9</code>. Each position is shown as <em>the number of lines which cover that point</em> or <code>.</code> if no line covers that point. The top-left pair of <code>1</code>s, for example, comes from <code>2,2 -&gt; 2,1</code>; the very bottom row is formed by the overlapping lines <code>0,9 -&gt; 5,9</code> and <code>0,9 -&gt; 2,9</code>.</p>\n",
    "<p>To avoid the most dangerous areas, you need to determine <em>the number of points where at least two lines overlap</em>. In the above example, this is anywhere in the diagram with a <code>2</code> or larger - a total of <code><em>5</em></code> points.</p>\n",
    "<p>Consider only horizontal and vertical lines. <em>At how many points do at least two lines overlap?</em></p>\n",
    "</article>"
   ]
  },
  {
   "cell_type": "code",
   "execution_count": 25,
   "id": "1eec54d8",
   "metadata": {},
   "outputs": [
    {
     "name": "stderr",
     "output_type": "stream",
     "text": [
      "\u001b[32m\u001b[1m   Resolving\u001b[22m\u001b[39m package versions...\n",
      "\u001b[32m\u001b[1m  No Changes\u001b[22m\u001b[39m to `~/.julia/environments/v1.6/Project.toml`\n",
      "\u001b[32m\u001b[1m  No Changes\u001b[22m\u001b[39m to `~/.julia/environments/v1.6/Manifest.toml`\n",
      "\u001b[32m\u001b[1m   Resolving\u001b[22m\u001b[39m package versions...\n",
      "\u001b[32m\u001b[1m  No Changes\u001b[22m\u001b[39m to `~/.julia/environments/v1.6/Project.toml`\n",
      "\u001b[32m\u001b[1m  No Changes\u001b[22m\u001b[39m to `~/.julia/environments/v1.6/Manifest.toml`\n"
     ]
    }
   ],
   "source": [
    "import Pkg; Pkg.add(\"Combinatorics\"); using Combinatorics;\n",
    "import Pkg; Pkg.add(\"Interpolations\"); using Interpolations;\n",
    "using Base.Iterators;"
   ]
  },
  {
   "cell_type": "code",
   "execution_count": 56,
   "id": "cbc59cc7",
   "metadata": {},
   "outputs": [],
   "source": [
    "function input_line_to_points(input_line)\n",
    "    pairs = split(input_line, \" -> \");\n",
    "    x1, y1 = [parse(Int64, n) for n in split(pairs[1], \",\")];\n",
    "    x2, y2 = [parse(Int64, n) for n in split(pairs[2], \",\")];\n",
    "    return ((x1,y1),(x2,y2))\n",
    "end;\n",
    "\n",
    "function init()\n",
    "    input_lines = readlines(\"input.txt\");\n",
    "    points = [input_line_to_points(input_line) for input_line in input_lines];\n",
    "    return points;\n",
    "end;\n",
    "\n",
    "function in_bounds(x, x1, x2)\n",
    "    return ((x >= x1) && (x <= x2)) || ((x >= x2) && (x <= x1))\n",
    "end;\n",
    "\n",
    "function is_horizontal(((x1,y1), (x2,y2)))\n",
    "    return y1 == y2\n",
    "end;\n",
    "\n",
    "function is_vertical(((x1,y1), (x2,y2)))\n",
    "    return x1 == x2\n",
    "end;\n",
    "\n",
    "function as_range_pair(((x1,y1), (x2,y2)))\n",
    "    return (x1:(x2 > x1 ? 1 : -1):x2, y1:(y2 > y1 ? 1 : -1):y2);\n",
    "end;"
   ]
  },
  {
   "cell_type": "code",
   "execution_count": 62,
   "id": "0c7d5c6f",
   "metadata": {},
   "outputs": [
    {
     "data": {
      "text/plain": [
       "6189"
      ]
     },
     "execution_count": 62,
     "metadata": {},
     "output_type": "execute_result"
    }
   ],
   "source": [
    "lines = init();\n",
    "points = Set();\n",
    "\n",
    "v_or_h = filter((line) -> is_vertical(line) || is_horizontal(line), lines);\n",
    "v_or_h_ranges = as_range_pair.(v_or_h);\n",
    "\n",
    "for (l1, l2) in combinations(v_or_h_ranges, 2)\n",
    "    x_range, y_range = (intersect(l1[1], l2[1]), intersect(l1[2], l2[2]));\n",
    "    for point in product(x_range, y_range)\n",
    "        push!(points, point);\n",
    "    end;\n",
    "end;\n",
    "length(points)"
   ]
  },
  {
   "cell_type": "markdown",
   "id": "bac54fd5",
   "metadata": {},
   "source": [
    "<article class=\"day-desc\"><h2 id=\"part2\">--- Part Two ---</h2><p>Unfortunately, considering only horizontal and vertical lines doesn't give you the full picture; you need to also consider <em>diagonal lines</em>.</p>\n",
    "<p>Because of the limits of the hydrothermal vent mapping system, the lines in your list will only ever be horizontal, vertical, or a diagonal line at exactly 45 degrees. In other words:</p>\n",
    "<ul>\n",
    "<li>An entry like <code>1,1 -&gt; 3,3</code> covers points <code>1,1</code>, <code>2,2</code>, and <code>3,3</code>.</li>\n",
    "<li>An entry like <code>9,7 -&gt; 7,9</code> covers points <code>9,7</code>, <code>8,8</code>, and <code>7,9</code>.</li>\n",
    "</ul>\n",
    "<p>Considering all lines from the above example would now produce the following diagram:</p>\n",
    "<pre><code>1.1....11.\n",
    ".111...2..\n",
    "..2.1.111.\n",
    "...1.2.2..\n",
    ".112313211\n",
    "...1.2....\n",
    "..1...1...\n",
    ".1.....1..\n",
    "1.......1.\n",
    "222111....\n",
    "</code></pre>\n",
    "<p>You still need to determine <em>the number of points where at least two lines overlap</em>. In the above example, this is still anywhere in the diagram with a <code>2</code> or larger - now a total of <code><em>12</em></code> points.</p>\n",
    "<p>Consider all of the lines. <em>At how many points do at least two lines overlap?</em></p>\n",
    "</article>"
   ]
  },
  {
   "cell_type": "code",
   "execution_count": 61,
   "id": "ada35182",
   "metadata": {},
   "outputs": [
    {
     "data": {
      "text/plain": [
       "19164"
      ]
     },
     "execution_count": 61,
     "metadata": {},
     "output_type": "execute_result"
    }
   ],
   "source": [
    "lines = init();\n",
    "points = Set();\n",
    "\n",
    "ranges = as_range_pair.(lines);\n",
    "\n",
    "function to_points(l)\n",
    "    if length(l[1]) == 1\n",
    "        return zip(cycle(l[1]), l[2]);\n",
    "    elseif length(l[2]) == 1\n",
    "        return zip(l[1], cycle(l[2]));\n",
    "    else\n",
    "        return zip(l[1], l[2]);\n",
    "    end;\n",
    "end\n",
    "\n",
    "line_points = to_points.(ranges);\n",
    "\n",
    "for (l1, l2) in combinations(line_points, 2)\n",
    "    for point in intersect(l1, l2)\n",
    "        push!(points, point);\n",
    "    end;\n",
    "end;\n",
    "\n",
    "length(points)"
   ]
  },
  {
   "cell_type": "markdown",
   "id": "7a4248df",
   "metadata": {},
   "source": [
    "The above solution is widely considered to be gross."
   ]
  }
 ],
 "metadata": {
  "kernelspec": {
   "display_name": "Julia 1.6.3",
   "language": "julia",
   "name": "julia-1.6"
  },
  "language_info": {
   "file_extension": ".jl",
   "mimetype": "application/julia",
   "name": "julia",
   "version": "1.6.3"
  }
 },
 "nbformat": 4,
 "nbformat_minor": 5
}
