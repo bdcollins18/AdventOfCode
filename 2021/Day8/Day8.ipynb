{
 "cells": [
  {
   "cell_type": "markdown",
   "id": "a3bcad5b",
   "metadata": {},
   "source": [
    "<article class=\"day-desc\"><h2>--- Day 8: Seven Segment Search ---</h2><p>You barely reach the safety of the cave when the whale smashes into the cave mouth, collapsing it. Sensors indicate another exit to this cave at a much greater depth, so you have no choice but to press on.</p>\n",
    "<p>As your submarine slowly makes its way through the cave system, you notice that the four-digit <a href=\"https://en.wikipedia.org/wiki/Seven-segment_display\" target=\"_blank\">seven-segment displays</a> in your submarine are malfunctioning; <span title=\"Yes, just the four-digit seven-segment ones. Whole batch must have been faulty.\">they must have been damaged</span> during the escape. You'll be in a lot of trouble without them, so you'd better figure out what's wrong.</p>\n",
    "<p>Each digit of a seven-segment display is rendered by turning on or off any of seven segments named <code>a</code> through <code>g</code>:</p>\n",
    "<pre><code>  0:      1:      2:      3:      4:\n",
    " <em>aaaa</em>    ....    <em>aaaa    aaaa</em>    ....\n",
    "<em>b    c</em>  .    <em>c</em>  .    <em>c</em>  .    <em>c  b    c</em>\n",
    "<em>b    c</em>  .    <em>c</em>  .    <em>c</em>  .    <em>c  b    c</em>\n",
    " ....    ....    <em>dddd    dddd    dddd</em>\n",
    "<em>e    f</em>  .    <em>f  e</em>    .  .    <em>f</em>  .    <em>f</em>\n",
    "<em>e    f</em>  .    <em>f  e</em>    .  .    <em>f</em>  .    <em>f</em>\n",
    " <em>gggg</em>    ....    <em>gggg    gggg</em>    ....\n",
    "\n",
    "  5:      6:      7:      8:      9:\n",
    " <em>aaaa    aaaa    aaaa    aaaa    aaaa</em>\n",
    "<em>b</em>    .  <em>b</em>    .  .    <em>c  b    c  b    c</em>\n",
    "<em>b</em>    .  <em>b</em>    .  .    <em>c  b    c  b    c</em>\n",
    " <em>dddd    dddd</em>    ....    <em>dddd    dddd</em>\n",
    ".    <em>f  e    f</em>  .    <em>f  e    f</em>  .    <em>f</em>\n",
    ".    <em>f  e    f</em>  .    <em>f  e    f</em>  .    <em>f</em>\n",
    " <em>gggg    gggg</em>    ....    <em>gggg    gggg</em>\n",
    "</code></pre>\n",
    "<p>So, to render a <code>1</code>, only segments <code>c</code> and <code>f</code> would be turned on; the rest would be off. To render a <code>7</code>, only segments <code>a</code>, <code>c</code>, and <code>f</code> would be turned on.</p>\n",
    "<p>The problem is that the signals which control the segments have been mixed up on each display. The submarine is still trying to display numbers by producing output on signal wires <code>a</code> through <code>g</code>, but those wires are connected to segments <em>randomly</em>. Worse, the wire/segment connections are mixed up separately for each four-digit display! (All of the digits <em>within</em> a display use the same connections, though.)</p>\n",
    "<p>So, you might know that only signal wires <code>b</code> and <code>g</code> are turned on, but that doesn't mean <em>segments</em> <code>b</code> and <code>g</code> are turned on: the only digit that uses two segments is <code>1</code>, so it must mean segments <code>c</code> and <code>f</code> are meant to be on. With just that information, you still can't tell which wire (<code>b</code>/<code>g</code>) goes to which segment (<code>c</code>/<code>f</code>). For that, you'll need to collect more information.</p>\n",
    "<p>For each display, you watch the changing signals for a while, make a note of <em>all ten unique signal patterns</em> you see, and then write down a single <em>four digit output value</em> (your puzzle input). Using the signal patterns, you should be able to work out which pattern corresponds to which digit.</p>\n",
    "<p>For example, here is what you might see in a single entry in your notes:</p>\n",
    "<pre><code>acedgfb cdfbe gcdfa fbcad dab cefabd cdfgeb eafb cagedb ab |\n",
    "cdfeb fcadb cdfeb cdbaf</code></pre>\n",
    "<p>(The entry is wrapped here to two lines so it fits; in your notes, it will all be on a single line.)</p>\n",
    "<p>Each entry consists of ten <em>unique signal patterns</em>, a <code>|</code> delimiter, and finally the <em>four digit output value</em>. Within an entry, the same wire/segment connections are used (but you don't know what the connections actually are). The unique signal patterns correspond to the ten different ways the submarine tries to render a digit using the current wire/segment connections. Because <code>7</code> is the only digit that uses three segments, <code>dab</code> in the above example means that to render a <code>7</code>, signal lines <code>d</code>, <code>a</code>, and <code>b</code> are on. Because <code>4</code> is the only digit that uses four segments, <code>eafb</code> means that to render a <code>4</code>, signal lines <code>e</code>, <code>a</code>, <code>f</code>, and <code>b</code> are on.</p>\n",
    "<p>Using this information, you should be able to work out which combination of signal wires corresponds to each of the ten digits. Then, you can decode the four digit output value. Unfortunately, in the above example, all of the digits in the output value (<code>cdfeb fcadb cdfeb cdbaf</code>) use five segments and are more difficult to deduce.</p>\n",
    "<p>For now, <em>focus on the easy digits</em>. Consider this larger example:</p>\n",
    "<pre><code>be cfbegad cbdgef fgaecd cgeb fdcge agebfd fecdb fabcd edb |\n",
    "<em>fdgacbe</em> cefdb cefbgd <em>gcbe</em>\n",
    "edbfga begcd cbg gc gcadebf fbgde acbgfd abcde gfcbed gfec |\n",
    "fcgedb <em>cgb</em> <em>dgebacf</em> <em>gc</em>\n",
    "fgaebd cg bdaec gdafb agbcfd gdcbef bgcad gfac gcb cdgabef |\n",
    "<em>cg</em> <em>cg</em> fdcagb <em>cbg</em>\n",
    "fbegcd cbd adcefb dageb afcb bc aefdc ecdab fgdeca fcdbega |\n",
    "efabcd cedba gadfec <em>cb</em>\n",
    "aecbfdg fbg gf bafeg dbefa fcge gcbea fcaegb dgceab fcbdga |\n",
    "<em>gecf</em> <em>egdcabf</em> <em>bgf</em> bfgea\n",
    "fgeab ca afcebg bdacfeg cfaedg gcfdb baec bfadeg bafgc acf |\n",
    "<em>gebdcfa</em> <em>ecba</em> <em>ca</em> <em>fadegcb</em>\n",
    "dbcfg fgd bdegcaf fgec aegbdf ecdfab fbedc dacgb gdcebf gf |\n",
    "<em>cefg</em> dcbef <em>fcge</em> <em>gbcadfe</em>\n",
    "bdfegc cbegaf gecbf dfcage bdacg ed bedf ced adcbefg gebcd |\n",
    "<em>ed</em> bcgafe cdgba cbgef\n",
    "egadfb cdbfeg cegd fecab cgb gbdefca cg fgcdab egfdb bfceg |\n",
    "<em>gbdfcae</em> <em>bgc</em> <em>cg</em> <em>cgb</em>\n",
    "gcafb gcf dcaebfg ecagb gf abcdeg gaef cafbge fdbac fegbdc |\n",
    "<em>fgae</em> cfgab <em>fg</em> bagce\n",
    "</code></pre>\n",
    "<p>Because the digits <code>1</code>, <code>4</code>, <code>7</code>, and <code>8</code> each use a unique number of segments, you should be able to tell which combinations of signals correspond to those digits. Counting <em>only digits in the output values</em> (the part after <code>|</code> on each line), in the above example, there are <code><em>26</em></code> instances of digits that use a unique number of segments (highlighted above).</p>\n",
    "<p><em>In the output values, how many times do digits <code>1</code>, <code>4</code>, <code>7</code>, or <code>8</code> appear?</em></p>\n",
    "</article>"
   ]
  },
  {
   "cell_type": "code",
   "execution_count": 7,
   "id": "dfdec044",
   "metadata": {},
   "outputs": [
    {
     "name": "stderr",
     "output_type": "stream",
     "text": [
      "\u001b[32m\u001b[1m    Updating\u001b[22m\u001b[39m registry at `~/.julia/registries/General`\n",
      "┌ Error: curl_easy_setopt: 48\n",
      "└ @ Downloads.Curl /private/tmp/julia-20210929-79571-nlx62p/julia-1.6.3/usr/share/julia/stdlib/v1.6/Downloads/src/Curl/utils.jl:36\n",
      "┌ Error: curl_easy_setopt: 48\n",
      "└ @ Downloads.Curl /private/tmp/julia-20210929-79571-nlx62p/julia-1.6.3/usr/share/julia/stdlib/v1.6/Downloads/src/Curl/utils.jl:36\n",
      "┌ Error: curl_easy_setopt: 48\n",
      "└ @ Downloads.Curl /private/tmp/julia-20210929-79571-nlx62p/julia-1.6.3/usr/share/julia/stdlib/v1.6/Downloads/src/Curl/utils.jl:36\n",
      "┌ Error: curl_easy_setopt: 48\n",
      "└ @ Downloads.Curl /private/tmp/julia-20210929-79571-nlx62p/julia-1.6.3/usr/share/julia/stdlib/v1.6/Downloads/src/Curl/utils.jl:36\n",
      "┌ Error: curl_easy_setopt: 48\n",
      "└ @ Downloads.Curl /private/tmp/julia-20210929-79571-nlx62p/julia-1.6.3/usr/share/julia/stdlib/v1.6/Downloads/src/Curl/utils.jl:36\n",
      "┌ Error: curl_easy_setopt: 48\n",
      "└ @ Downloads.Curl /private/tmp/julia-20210929-79571-nlx62p/julia-1.6.3/usr/share/julia/stdlib/v1.6/Downloads/src/Curl/utils.jl:36\n",
      "\u001b[32m\u001b[1m   Resolving\u001b[22m\u001b[39m package versions...\n",
      "\u001b[32m\u001b[1m  No Changes\u001b[22m\u001b[39m to `~/.julia/environments/v1.6/Project.toml`\n",
      "\u001b[32m\u001b[1m  No Changes\u001b[22m\u001b[39m to `~/.julia/environments/v1.6/Manifest.toml`\n"
     ]
    }
   ],
   "source": [
    "import Pkg; Pkg.add(\"Combinatorics\"); using Combinatorics;"
   ]
  },
  {
   "cell_type": "code",
   "execution_count": 131,
   "id": "22db5f72",
   "metadata": {},
   "outputs": [],
   "source": [
    "function init()\n",
    "    return [split.(l, \" \", keepempty=false) for l in [split(l, \"|\", keepempty=false) for l in readlines(\"input.txt\")]];\n",
    "end;"
   ]
  },
  {
   "cell_type": "code",
   "execution_count": 132,
   "id": "3a038dc5",
   "metadata": {},
   "outputs": [
    {
     "data": {
      "text/plain": [
       "365"
      ]
     },
     "execution_count": 132,
     "metadata": {},
     "output_type": "execute_result"
    }
   ],
   "source": [
    "count = 0;\n",
    "for data in init()\n",
    "    for output in data[2]\n",
    "        if length(output) in [2, 3, 4, 7]\n",
    "            count += 1\n",
    "        end;\n",
    "    end;\n",
    "end;\n",
    "count"
   ]
  },
  {
   "cell_type": "markdown",
   "id": "b7ad8ab5",
   "metadata": {},
   "source": [
    "<article class=\"day-desc\"><h2 id=\"part2\">--- Part Two ---</h2><p>Through a little deduction, you should now be able to determine the remaining digits. Consider again the first example above:</p>\n",
    "<pre><code>acedgfb cdfbe gcdfa fbcad dab cefabd cdfgeb eafb cagedb ab |\n",
    "cdfeb fcadb cdfeb cdbaf</code></pre>\n",
    "<p>After some careful analysis, the mapping between signal wires and segments only make sense in the following configuration:</p>\n",
    "<pre><code> dddd\n",
    "e    a\n",
    "e    a\n",
    " ffff\n",
    "g    b\n",
    "g    b\n",
    " cccc\n",
    "</code></pre>\n",
    "<p>So, the unique signal patterns would correspond to the following digits:</p>\n",
    "<ul>\n",
    "<li><code>acedgfb</code>: <code>8</code></li>\n",
    "<li><code>cdfbe</code>: <code>5</code></li>\n",
    "<li><code>gcdfa</code>: <code>2</code></li>\n",
    "<li><code>fbcad</code>: <code>3</code></li>\n",
    "<li><code>dab</code>: <code>7</code></li>\n",
    "<li><code>cefabd</code>: <code>9</code></li>\n",
    "<li><code>cdfgeb</code>: <code>6</code></li>\n",
    "<li><code>eafb</code>: <code>4</code></li>\n",
    "<li><code>cagedb</code>: <code>0</code></li>\n",
    "<li><code>ab</code>: <code>1</code></li>\n",
    "</ul>\n",
    "<p>Then, the four digits of the output value can be decoded:</p>\n",
    "<ul>\n",
    "<li><code>cdfeb</code>: <code><em>5</em></code></li>\n",
    "<li><code>fcadb</code>: <code><em>3</em></code></li>\n",
    "<li><code>cdfeb</code>: <code><em>5</em></code></li>\n",
    "<li><code>cdbaf</code>: <code><em>3</em></code></li>\n",
    "</ul>\n",
    "<p>Therefore, the output value for this entry is <code><em>5353</em></code>.</p>\n",
    "<p>Following this same process for each entry in the second, larger example above, the output value of each entry can be determined:</p>\n",
    "<ul>\n",
    "<li><code>fdgacbe cefdb cefbgd gcbe</code>: <code>8394</code></li>\n",
    "<li><code>fcgedb cgb dgebacf gc</code>: <code>9781</code></li>\n",
    "<li><code>cg cg fdcagb cbg</code>: <code>1197</code></li>\n",
    "<li><code>efabcd cedba gadfec cb</code>: <code>9361</code></li>\n",
    "<li><code>gecf egdcabf bgf bfgea</code>: <code>4873</code></li>\n",
    "<li><code>gebdcfa ecba ca fadegcb</code>: <code>8418</code></li>\n",
    "<li><code>cefg dcbef fcge gbcadfe</code>: <code>4548</code></li>\n",
    "<li><code>ed bcgafe cdgba cbgef</code>: <code>1625</code></li>\n",
    "<li><code>gbdfcae bgc cg cgb</code>: <code>8717</code></li>\n",
    "<li><code>fgae cfgab fg bagce</code>: <code>4315</code></li>\n",
    "</ul>\n",
    "<p>Adding all of the output values in this larger example produces <code><em>61229</em></code>.</p>\n",
    "<p>For each entry, determine all of the wire/segment connections and decode the four-digit output values. <em>What do you get if you add up all of the output values?</em></p>\n",
    "</article>"
   ]
  },
  {
   "cell_type": "code",
   "execution_count": 133,
   "id": "d7f53fe9",
   "metadata": {},
   "outputs": [
    {
     "data": {
      "text/plain": [
       "975706"
      ]
     },
     "execution_count": 133,
     "metadata": {},
     "output_type": "execute_result"
    }
   ],
   "source": [
    "total = 0\n",
    "for (digits, number_digits) in init()\n",
    "    digit_set = Set([Set(digit) for digit in digits]);\n",
    "    one = first(filter((d) -> length(d) == 2, digit_set));\n",
    "    four = first(filter((d) -> length(d) == 4, digit_set));\n",
    "    seven = first(filter((d) -> length(d) == 3, digit_set));\n",
    "    eight = first(filter((d) -> length(d) == 7, digit_set));\n",
    "    \n",
    "    two_three_and_five = filter((d) -> length(d) == 5, digit_set);\n",
    "    two_and_five = nothing;\n",
    "    for (d1, d2) in combinations([d for d in two_three_and_five], 2)\n",
    "        if length(intersect(d1, d2)) == 3\n",
    "            two_and_five = Set([d1, d2])\n",
    "            break;\n",
    "        end;\n",
    "    end;\n",
    "    three = first(setdiff(two_three_and_five, two_and_five));\n",
    "    \n",
    "    a = setdiff(seven, one);\n",
    "    b = setdiff(four, three);\n",
    "    d = setdiff(four, one, b);\n",
    "    g = setdiff(three, one, a, d);\n",
    "    \n",
    "    five = first(filter((d) -> length(intersect(d, b)) > 0, two_and_five));\n",
    "    two = first(filter((d) -> d != five, two_and_five));\n",
    "    \n",
    "    c = intersect(two, one);\n",
    "    e = setdiff(two, a, c, d, g)\n",
    "    f = intersect(five, one);\n",
    "    \n",
    "    six = setdiff(eight, c);\n",
    "    nine = setdiff(eight, e);\n",
    "    zero = setdiff(eight, d);\n",
    "    \n",
    "    digit_map = Dict([\n",
    "        (zero, 0),\n",
    "        (one, 1),\n",
    "        (two, 2),\n",
    "        (three, 3),\n",
    "        (four, 4),\n",
    "        (five, 5),\n",
    "        (six, 6),\n",
    "        (seven, 7),\n",
    "        (eight, 8),\n",
    "        (nine, 9)\n",
    "    ]);\n",
    "    number = 0\n",
    "    for i in 1:4\n",
    "        number += (10^(4-i)) * digit_map[Set(number_digits[i])]\n",
    "    end;\n",
    "    total += number;\n",
    "end;\n",
    "total"
   ]
  }
 ],
 "metadata": {
  "kernelspec": {
   "display_name": "Julia 1.6.3",
   "language": "julia",
   "name": "julia-1.6"
  },
  "language_info": {
   "file_extension": ".jl",
   "mimetype": "application/julia",
   "name": "julia",
   "version": "1.6.3"
  }
 },
 "nbformat": 4,
 "nbformat_minor": 5
}
