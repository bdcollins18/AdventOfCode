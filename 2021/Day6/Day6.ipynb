{
 "cells": [
  {
   "cell_type": "markdown",
   "id": "4a6247f8",
   "metadata": {},
   "source": [
    "<article class=\"day-desc\"><h2>--- Day 6: Lanternfish ---</h2><p>The sea floor is getting steeper. Maybe the sleigh keys got carried this way?</p>\n",
    "<p>A massive school of glowing <a href=\"https://en.wikipedia.org/wiki/Lanternfish\" target=\"_blank\">lanternfish</a> swims past. They must spawn quickly to reach such large numbers - maybe <em>exponentially</em> quickly? You should model their growth rate to be sure.</p>\n",
    "<p>Although you know nothing about this specific species of lanternfish, you make some guesses about their attributes. Surely, <span title=\"I heard you like lanternfish.\">each lanternfish creates a new lanternfish</span> once every <em>7</em> days.</p>\n",
    "<p>However, this process isn't necessarily synchronized between every lanternfish - one lanternfish might have 2 days left until it creates another lanternfish, while another might have 4. So, you can model each fish as a single number that represents <em>the number of days until it creates a new lanternfish</em>.</p>\n",
    "<p>Furthermore, you reason, a <em>new</em> lanternfish would surely need slightly longer before it's capable of producing more lanternfish: two more days for its first cycle.</p>\n",
    "<p>So, suppose you have a lanternfish with an internal timer value of <code>3</code>:</p>\n",
    "<ul>\n",
    "<li>After one day, its internal timer would become <code>2</code>.</li>\n",
    "<li>After another day, its internal timer would become <code>1</code>.</li>\n",
    "<li>After another day, its internal timer would become <code>0</code>.</li>\n",
    "<li>After another day, its internal timer would reset to <code>6</code>, and it would create a <em>new</em> lanternfish with an internal timer of <code>8</code>.</li>\n",
    "<li>After another day, the first lanternfish would have an internal timer of <code>5</code>, and the second lanternfish would have an internal timer of <code>7</code>.</li>\n",
    "</ul>\n",
    "<p>A lanternfish that creates a new fish resets its timer to <code>6</code>, <em>not <code>7</code></em> (because <code>0</code> is included as a valid timer value). The new lanternfish starts with an internal timer of <code>8</code> and does not start counting down until the next day.</p>\n",
    "<p>Realizing what you're trying to do, the submarine automatically produces a list of the ages of several hundred nearby lanternfish (your puzzle input). For example, suppose you were given the following list:</p>\n",
    "<pre><code>3,4,3,1,2</code></pre>\n",
    "<p>This list means that the first fish has an internal timer of <code>3</code>, the second fish has an internal timer of <code>4</code>, and so on until the fifth fish, which has an internal timer of <code>2</code>. Simulating these fish over several days would proceed as follows:</p>\n",
    "<pre><code>Initial state: 3,4,3,1,2\n",
    "After  1 day:  2,3,2,0,1\n",
    "After  2 days: 1,2,1,6,0,8\n",
    "After  3 days: 0,1,0,5,6,7,8\n",
    "After  4 days: 6,0,6,4,5,6,7,8,8\n",
    "After  5 days: 5,6,5,3,4,5,6,7,7,8\n",
    "After  6 days: 4,5,4,2,3,4,5,6,6,7\n",
    "After  7 days: 3,4,3,1,2,3,4,5,5,6\n",
    "After  8 days: 2,3,2,0,1,2,3,4,4,5\n",
    "After  9 days: 1,2,1,6,0,1,2,3,3,4,8\n",
    "After 10 days: 0,1,0,5,6,0,1,2,2,3,7,8\n",
    "After 11 days: 6,0,6,4,5,6,0,1,1,2,6,7,8,8,8\n",
    "After 12 days: 5,6,5,3,4,5,6,0,0,1,5,6,7,7,7,8,8\n",
    "After 13 days: 4,5,4,2,3,4,5,6,6,0,4,5,6,6,6,7,7,8,8\n",
    "After 14 days: 3,4,3,1,2,3,4,5,5,6,3,4,5,5,5,6,6,7,7,8\n",
    "After 15 days: 2,3,2,0,1,2,3,4,4,5,2,3,4,4,4,5,5,6,6,7\n",
    "After 16 days: 1,2,1,6,0,1,2,3,3,4,1,2,3,3,3,4,4,5,5,6,8\n",
    "After 17 days: 0,1,0,5,6,0,1,2,2,3,0,1,2,2,2,3,3,4,4,5,7,8\n",
    "After 18 days: 6,0,6,4,5,6,0,1,1,2,6,0,1,1,1,2,2,3,3,4,6,7,8,8,8,8\n",
    "</code></pre>\n",
    "<p>Each day, a <code>0</code> becomes a <code>6</code> and adds a new <code>8</code> to the end of the list, while each other number decreases by 1 if it was present at the start of the day.</p>\n",
    "<p>In this example, after 18 days, there are a total of <code>26</code> fish. After 80 days, there would be a total of <code><em>5934</em></code>.</p>\n",
    "<p>Find a way to simulate lanternfish. <em>How many lanternfish would there be after 80 days?</em></p>\n",
    "</article>"
   ]
  },
  {
   "cell_type": "code",
   "execution_count": 87,
   "id": "7fda731e",
   "metadata": {},
   "outputs": [
    {
     "name": "stderr",
     "output_type": "stream",
     "text": [
      "\u001b[32m\u001b[1m   Resolving\u001b[22m\u001b[39m package versions...\n",
      "\u001b[32m\u001b[1m  No Changes\u001b[22m\u001b[39m to `~/.julia/environments/v1.6/Project.toml`\n",
      "\u001b[32m\u001b[1m  No Changes\u001b[22m\u001b[39m to `~/.julia/environments/v1.6/Manifest.toml`\n"
     ]
    }
   ],
   "source": [
    "import Pkg; Pkg.add(\"DataStructures\"); using DataStructures"
   ]
  },
  {
   "cell_type": "code",
   "execution_count": 75,
   "id": "b4aaf3ab",
   "metadata": {},
   "outputs": [],
   "source": [
    "function init()\n",
    "    input_line = readline(\"input.txt\")\n",
    "    return [parse(Int64, n) for n in split(input_line, \",\")]\n",
    "end;"
   ]
  },
  {
   "cell_type": "code",
   "execution_count": 128,
   "id": "bc21ae1b",
   "metadata": {},
   "outputs": [],
   "source": [
    "initial_state = counter(init());\n",
    "state = Dict([(n, 0) for n in 0:8]);\n",
    "for (n, count) in initial_state\n",
    "    state[n] = count;\n",
    "end;\n",
    "\n",
    "for _ in 1:80\n",
    "    new_state = Dict();\n",
    "    for i in 1:8\n",
    "        new_state[i-1] = state[i];\n",
    "    end;\n",
    "    new_state[8] = 0;\n",
    "    new_state[8] += state[0];\n",
    "    new_state[6] += state[0];\n",
    "    state = new_state;\n",
    "end;"
   ]
  },
  {
   "cell_type": "code",
   "execution_count": 130,
   "id": "68e2b703",
   "metadata": {},
   "outputs": [
    {
     "data": {
      "text/plain": [
       "386640"
      ]
     },
     "execution_count": 130,
     "metadata": {},
     "output_type": "execute_result"
    }
   ],
   "source": [
    "sum([state[i] for i in 0:8])"
   ]
  },
  {
   "cell_type": "markdown",
   "id": "e7f24a02",
   "metadata": {},
   "source": [
    "<article class=\"day-desc\"><h2 id=\"part2\">--- Part Two ---</h2><p>Suppose the lanternfish live forever and have unlimited food and space. Would they take over the entire ocean?</p>\n",
    "<p>After 256 days in the example above, there would be a total of <code><em>26984457539</em></code> lanternfish!</p>\n",
    "<p><em>How many lanternfish would there be after 256 days?</em></p>\n",
    "</article>"
   ]
  },
  {
   "cell_type": "code",
   "execution_count": 131,
   "id": "7a32594f",
   "metadata": {},
   "outputs": [],
   "source": [
    "initial_state = counter(init());\n",
    "state = Dict([(n, 0) for n in 0:8]);\n",
    "for (n, count) in initial_state\n",
    "    state[n] = count;\n",
    "end;\n",
    "\n",
    "for _ in 1:256\n",
    "    new_state = Dict();\n",
    "    for i in 1:8\n",
    "        new_state[i-1] = state[i];\n",
    "    end;\n",
    "    new_state[8] = 0;\n",
    "    new_state[8] += state[0];\n",
    "    new_state[6] += state[0];\n",
    "    state = new_state;\n",
    "end;"
   ]
  },
  {
   "cell_type": "code",
   "execution_count": 132,
   "id": "9c025434",
   "metadata": {},
   "outputs": [
    {
     "data": {
      "text/plain": [
       "1733403626279"
      ]
     },
     "execution_count": 132,
     "metadata": {},
     "output_type": "execute_result"
    }
   ],
   "source": [
    "sum([state[i] for i in 0:8])"
   ]
  }
 ],
 "metadata": {
  "kernelspec": {
   "display_name": "Julia 1.6.3",
   "language": "julia",
   "name": "julia-1.6"
  },
  "language_info": {
   "file_extension": ".jl",
   "mimetype": "application/julia",
   "name": "julia",
   "version": "1.6.3"
  }
 },
 "nbformat": 4,
 "nbformat_minor": 5
}
