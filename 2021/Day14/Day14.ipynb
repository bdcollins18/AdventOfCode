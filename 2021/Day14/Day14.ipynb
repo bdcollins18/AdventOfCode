{
 "cells": [
  {
   "cell_type": "markdown",
   "id": "011952dd",
   "metadata": {},
   "source": [
    "<article class=\"day-desc\"><h2>--- Day 14: Extended Polymerization ---</h2><p>The incredible pressures at this depth are starting to put a strain on your submarine. The submarine has <a href=\"https://en.wikipedia.org/wiki/Polymerization\" target=\"_blank\">polymerization</a> equipment that would produce suitable materials to reinforce the submarine, and the nearby volcanically-active caves should even have the necessary input elements in sufficient quantities.</p>\n",
    "<p>The submarine manual contains instructions for finding the optimal polymer formula; specifically, it offers a <em>polymer template</em> and a list of <em>pair insertion</em> rules (your puzzle input). You just need to work out what polymer would result after repeating the pair insertion process a few times.</p>\n",
    "<p>For example:</p>\n",
    "<pre><code>NNCB\n",
    "\n",
    "CH -&gt; B\n",
    "HH -&gt; N\n",
    "CB -&gt; H\n",
    "NH -&gt; C\n",
    "HB -&gt; C\n",
    "HC -&gt; B\n",
    "HN -&gt; C\n",
    "NN -&gt; C\n",
    "BH -&gt; H\n",
    "NC -&gt; B\n",
    "NB -&gt; B\n",
    "BN -&gt; B\n",
    "BB -&gt; N\n",
    "BC -&gt; B\n",
    "CC -&gt; N\n",
    "CN -&gt; C\n",
    "</code></pre>\n",
    "<p>The first line is the <em>polymer template</em> - this is the starting point of the process.</p>\n",
    "<p>The following section defines the <em>pair insertion</em> rules. A rule like <code>AB -&gt; C</code> means that when elements <code>A</code> and <code>B</code> are immediately adjacent, element <code>C</code> should be inserted between them. These insertions all happen simultaneously.</p>\n",
    "<p>So, starting with the polymer template <code>NNCB</code>, the first step simultaneously considers all three pairs:</p>\n",
    "<ul>\n",
    "<li>The first pair (<code>NN</code>) matches the rule <code>NN -&gt; C</code>, so element <code><em>C</em></code> is inserted between the first <code>N</code> and the second <code>N</code>.</li>\n",
    "<li>The second pair (<code>NC</code>) matches the rule <code>NC -&gt; B</code>, so element <code><em>B</em></code> is inserted between the <code>N</code> and the <code>C</code>.</li>\n",
    "<li>The third pair (<code>CB</code>) matches the rule <code>CB -&gt; H</code>, so element <code><em>H</em></code> is inserted between the <code>C</code> and the <code>B</code>.</li>\n",
    "</ul>\n",
    "<p>Note that these pairs overlap: the second element of one pair is the first element of the next pair. Also, because all pairs are considered simultaneously, inserted elements are not considered to be part of a pair until the next step.</p>\n",
    "<p>After the first step of this process, the polymer becomes <code>N<em>C</em>N<em>B</em>C<em>H</em>B</code>.</p>\n",
    "<p>Here are the results of a few steps using the above rules:</p>\n",
    "<pre><code>Template:     NNCB\n",
    "After step 1: NCNBCHB\n",
    "After step 2: NBCCNBBBCBHCB\n",
    "After step 3: NBBBCNCCNBBNBNBBCHBHHBCHB\n",
    "After step 4: NBBNBNBBCCNBCNCCNBBNBBNBBBNBBNBBCBHCBHHNHCBBCBHCB\n",
    "</code></pre>\n",
    "<p>This polymer grows quickly. After step 5, it has length 97; After step 10, it has length 3073. After step 10, <code>B</code> occurs 1749 times, <code>C</code> occurs 298 times, <code>H</code> occurs 161 times, and <code>N</code> occurs 865 times; taking the quantity of the most common element (<code>B</code>, 1749) and subtracting the quantity of the least common element (<code>H</code>, 161) produces <code>1749 - 161 = <em>1588</em></code>.</p>\n",
    "<p>Apply 10 steps of pair insertion to the polymer template and find the most and least common elements in the result. <em>What do you get if you take the quantity of the most common element and subtract the quantity of the least common element?</em></p>\n",
    "</article>"
   ]
  },
  {
   "cell_type": "code",
   "execution_count": 44,
   "id": "9539e956",
   "metadata": {},
   "outputs": [],
   "source": [
    "function init()\n",
    "    input_string = read(\"input.txt\", String);\n",
    "    template, insertion_rules_string = split(input_string, \"\\n\\n\", keepempty=false);\n",
    "    insertion_rules = Dict{String, String}([split(l, \" -> \", keepempty=false) for l in split(insertion_rules_string, \"\\n\", keepempty=false)]);\n",
    "    return template, insertion_rules\n",
    "end;"
   ]
  },
  {
   "cell_type": "code",
   "execution_count": 49,
   "id": "335f5bf0",
   "metadata": {},
   "outputs": [
    {
     "data": {
      "text/plain": [
       "3247"
      ]
     },
     "execution_count": 49,
     "metadata": {},
     "output_type": "execute_result"
    }
   ],
   "source": [
    "template, insertion_rules = init();\n",
    "production_rules = Dict{String, Tuple{String, String}}([(from, (from[1:1] * to, to * from[2:2])) for (from, to) in insertion_rules]);\n",
    "\n",
    "element_counts = Dict{String, Int64}([])\n",
    "for i in 1:length(template)\n",
    "    element = template[i:i]\n",
    "    if !haskey(element_counts, element)\n",
    "        element_counts[element] = 0;\n",
    "    end;\n",
    "    element_counts[element] += 1;\n",
    "end;\n",
    "\n",
    "pair_counts = Dict{String, Int64}([]);\n",
    "for i in 1:(length(template) - 1)\n",
    "    pair = template[i:i+1];\n",
    "    if !haskey(pair_counts, pair)\n",
    "        pair_counts[pair] = 0;\n",
    "    end;\n",
    "    pair_counts[pair] += 1;\n",
    "end;\n",
    "\n",
    "for _ in 1:10\n",
    "    \n",
    "    new_pair_counts = Dict{String, Int64}([]);\n",
    "    \n",
    "    for (pair, count) in pair_counts\n",
    "        if haskey(production_rules, pair)\n",
    "            element = insertion_rules[pair];\n",
    "            if !haskey(element_counts, element)\n",
    "                element_counts[element] = 0;\n",
    "            end;\n",
    "            element_counts[element] += count;\n",
    "            \n",
    "            for outpair in production_rules[pair]\n",
    "                if !haskey(new_pair_counts, outpair)\n",
    "                    new_pair_counts[outpair] = 0;\n",
    "                end;\n",
    "                new_pair_counts[outpair] += count;\n",
    "            end;\n",
    "        else\n",
    "            if !haskey(new_pair_counts, pair)\n",
    "                new_pair_counts[pair] = 0;\n",
    "            end;\n",
    "            new_pair_counts[pair] += count;\n",
    "        end;\n",
    "    end;\n",
    "    \n",
    "    pair_counts = new_pair_counts;\n",
    "end;\n",
    "\n",
    "counts = sort([count for (pair, count) in element_counts]);\n",
    "last(counts) - first(counts)\n"
   ]
  },
  {
   "cell_type": "markdown",
   "id": "8cfc26c6",
   "metadata": {},
   "source": [
    "<article class=\"day-desc\"><h2 id=\"part2\">--- Part Two ---</h2><p>The resulting polymer isn't nearly strong enough to reinforce the submarine. You'll need to run more steps of the pair insertion process; a total of <em>40 steps</em> should do it.</p>\n",
    "<p>In the above example, the most common element is <code>B</code> (occurring <code>2192039569602</code> times) and the least common element is <code>H</code> (occurring <code>3849876073</code> times); subtracting these produces <code><em>2188189693529</em></code>.</p>\n",
    "<p>Apply <em>40</em> steps of pair insertion to the polymer template and find the most and least common elements in the result. <em>What do you get if you take the quantity of the most common element and subtract the quantity of the least common element?</em></p>\n",
    "</article>"
   ]
  },
  {
   "cell_type": "code",
   "execution_count": 50,
   "id": "73ad667d",
   "metadata": {},
   "outputs": [
    {
     "data": {
      "text/plain": [
       "4110568157153"
      ]
     },
     "execution_count": 50,
     "metadata": {},
     "output_type": "execute_result"
    }
   ],
   "source": [
    "template, insertion_rules = init();\n",
    "production_rules = Dict{String, Tuple{String, String}}([(from, (from[1:1] * to, to * from[2:2])) for (from, to) in insertion_rules]);\n",
    "\n",
    "element_counts = Dict{String, Int64}([])\n",
    "for i in 1:length(template)\n",
    "    element = template[i:i]\n",
    "    if !haskey(element_counts, element)\n",
    "        element_counts[element] = 0;\n",
    "    end;\n",
    "    element_counts[element] += 1;\n",
    "end;\n",
    "\n",
    "pair_counts = Dict{String, Int64}([]);\n",
    "for i in 1:(length(template) - 1)\n",
    "    pair = template[i:i+1];\n",
    "    if !haskey(pair_counts, pair)\n",
    "        pair_counts[pair] = 0;\n",
    "    end;\n",
    "    pair_counts[pair] += 1;\n",
    "end;\n",
    "\n",
    "for _ in 1:40\n",
    "    \n",
    "    new_pair_counts = Dict{String, Int64}([]);\n",
    "    \n",
    "    for (pair, count) in pair_counts\n",
    "        if haskey(production_rules, pair)\n",
    "            element = insertion_rules[pair];\n",
    "            if !haskey(element_counts, element)\n",
    "                element_counts[element] = 0;\n",
    "            end;\n",
    "            element_counts[element] += count;\n",
    "            \n",
    "            for outpair in production_rules[pair]\n",
    "                if !haskey(new_pair_counts, outpair)\n",
    "                    new_pair_counts[outpair] = 0;\n",
    "                end;\n",
    "                new_pair_counts[outpair] += count;\n",
    "            end;\n",
    "        else\n",
    "            if !haskey(new_pair_counts, pair)\n",
    "                new_pair_counts[pair] = 0;\n",
    "            end;\n",
    "            new_pair_counts[pair] += count;\n",
    "        end;\n",
    "    end;\n",
    "    \n",
    "    pair_counts = new_pair_counts;\n",
    "end;\n",
    "\n",
    "counts = sort([count for (pair, count) in element_counts]);\n",
    "last(counts) - first(counts)"
   ]
  }
 ],
 "metadata": {
  "kernelspec": {
   "display_name": "Julia 1.6.3",
   "language": "julia",
   "name": "julia-1.6"
  },
  "language_info": {
   "file_extension": ".jl",
   "mimetype": "application/julia",
   "name": "julia",
   "version": "1.6.3"
  }
 },
 "nbformat": 4,
 "nbformat_minor": 5
}
